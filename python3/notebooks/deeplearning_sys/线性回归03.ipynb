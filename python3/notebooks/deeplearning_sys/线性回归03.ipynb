{
 "cells": [
  {
   "cell_type": "code",
   "execution_count": 1,
   "id": "1d52323e-9986-476b-9634-2fea73b196e1",
   "metadata": {},
   "outputs": [],
   "source": [
    "import numpy as np\n",
    "import torch\n",
    "from torch.utils import data\n",
    "from d2l import torch as d2l\n",
    "\n",
    "true_w = torch.tensor([2, -3.4])\n",
    "true_b = 4.2\n",
    "features, labels = d2l.synthetic_data(true_w, true_b, 1000)"
   ]
  },
  {
   "cell_type": "code",
   "execution_count": 2,
   "id": "38c1878c-4c37-4cdc-af36-7ff69e360eee",
   "metadata": {},
   "outputs": [],
   "source": [
    "def load_array(data_arrays, batch_size, is_train=True):  #@save\n",
    "    \"\"\"构造一个PyTorch数据迭代器\"\"\"\n",
    "    dataset = data.TensorDataset(*data_arrays)\n",
    "    return data.DataLoader(dataset, batch_size, shuffle=is_train)\n",
    "\n",
    "batch_size = 10\n",
    "data_iter = load_array((features, labels), batch_size)"
   ]
  },
  {
   "cell_type": "code",
   "execution_count": 3,
   "id": "9567aa85-a663-400e-aa80-ad540cf8f155",
   "metadata": {},
   "outputs": [
    {
     "data": {
      "text/plain": [
       "[tensor([[-0.7608, -1.2345],\n",
       "         [-0.4173,  0.7219],\n",
       "         [-0.1612, -0.6910],\n",
       "         [-1.2045,  0.0146],\n",
       "         [ 1.4052,  2.0262],\n",
       "         [ 1.0510, -0.6267],\n",
       "         [ 2.7560,  0.4470],\n",
       "         [-0.1873,  0.0870],\n",
       "         [-0.2271,  0.6954],\n",
       "         [ 1.8780, -0.8010]]),\n",
       " tensor([[ 6.8957],\n",
       "         [ 0.9267],\n",
       "         [ 6.2388],\n",
       "         [ 1.7572],\n",
       "         [ 0.1150],\n",
       "         [ 8.4353],\n",
       "         [ 8.1940],\n",
       "         [ 3.5269],\n",
       "         [ 1.3808],\n",
       "         [10.6695]])]"
      ]
     },
     "execution_count": 3,
     "metadata": {},
     "output_type": "execute_result"
    }
   ],
   "source": [
    "next(iter(data_iter))"
   ]
  },
  {
   "cell_type": "code",
   "execution_count": 4,
   "id": "abcc7c6d-f242-41a7-a029-c22e804c6e6b",
   "metadata": {},
   "outputs": [],
   "source": [
    "# nn是神经网络的缩写\n",
    "from torch import nn\n",
    "\n",
    "net = nn.Sequential(nn.Linear(2, 1))"
   ]
  },
  {
   "cell_type": "code",
   "execution_count": 5,
   "id": "b233c18e-bc59-4fe7-93d0-684a50c0b33c",
   "metadata": {},
   "outputs": [
    {
     "data": {
      "text/plain": [
       "tensor([0.])"
      ]
     },
     "execution_count": 5,
     "metadata": {},
     "output_type": "execute_result"
    }
   ],
   "source": [
    "net[0].weight.data.normal_(0, 0.01)\n",
    "net[0].bias.data.fill_(0)"
   ]
  },
  {
   "cell_type": "code",
   "execution_count": 10,
   "id": "28dfc3eb-a32a-4c70-81c7-25572750cf49",
   "metadata": {},
   "outputs": [
    {
     "data": {
      "text/plain": [
       "tensor([0.])"
      ]
     },
     "execution_count": 10,
     "metadata": {},
     "output_type": "execute_result"
    }
   ],
   "source": [
    "net[0].bias.data"
   ]
  },
  {
   "cell_type": "code",
   "execution_count": 11,
   "id": "fa0e0ca4-260f-44cf-a70a-d246d0bee8d3",
   "metadata": {},
   "outputs": [],
   "source": [
    "loss = nn.MSELoss()"
   ]
  },
  {
   "cell_type": "code",
   "execution_count": 13,
   "id": "bbf10be4-0f25-4dfd-aa45-84fa3017610b",
   "metadata": {},
   "outputs": [
    {
     "data": {
      "text/plain": [
       "Parameter containing:\n",
       "tensor([[-0.0026, -0.0049]], requires_grad=True)"
      ]
     },
     "execution_count": 13,
     "metadata": {},
     "output_type": "execute_result"
    }
   ],
   "source": [
    "next(net.parameters())"
   ]
  },
  {
   "cell_type": "code",
   "execution_count": 14,
   "id": "71989b25-c048-4083-98b1-190c6659251f",
   "metadata": {},
   "outputs": [],
   "source": [
    "trainer = torch.optim.SGD(net.parameters(), lr=0.03)"
   ]
  },
  {
   "cell_type": "markdown",
   "id": "5f80c26f-7ff0-4b64-a651-f8fc82928d6b",
   "metadata": {},
   "source": [
    "训练过程\n",
    "1. 通过调用net(X)生成预测并计算损失l（前向传播）。\n",
    "2. 通过进行反向传播来计算梯度。\n",
    "3. 通过调用优化器来更新模型参数。"
   ]
  },
  {
   "cell_type": "code",
   "execution_count": 15,
   "id": "ab19e6e0-1929-471b-8dac-c5af8c914f95",
   "metadata": {},
   "outputs": [
    {
     "name": "stdout",
     "output_type": "stream",
     "text": [
      "epoch 1, loss 0.000285\n",
      "epoch 2, loss 0.000100\n",
      "epoch 3, loss 0.000100\n"
     ]
    }
   ],
   "source": [
    "num_epochs = 3\n",
    "for epoch in range(num_epochs):\n",
    "    for X, y in data_iter:\n",
    "        l = loss(net(X) ,y)\n",
    "        trainer.zero_grad()\n",
    "        l.backward()\n",
    "        trainer.step()\n",
    "    l = loss(net(features), labels)\n",
    "    print(f'epoch {epoch + 1}, loss {l:f}')"
   ]
  },
  {
   "cell_type": "code",
   "execution_count": 16,
   "id": "3f2308da-2bbb-40e4-b8c5-5b01de5134bd",
   "metadata": {},
   "outputs": [
    {
     "name": "stdout",
     "output_type": "stream",
     "text": [
      "w的估计误差： tensor([ 6.8128e-04, -6.1512e-05])\n",
      "b的估计误差： tensor([-0.0007])\n"
     ]
    }
   ],
   "source": [
    "w = net[0].weight.data\n",
    "print('w的估计误差：', true_w - w.reshape(true_w.shape))\n",
    "b = net[0].bias.data\n",
    "print('b的估计误差：', true_b - b)"
   ]
  },
  {
   "cell_type": "code",
   "execution_count": null,
   "id": "353f2415-d093-496e-a7eb-3c34199baa68",
   "metadata": {},
   "outputs": [],
   "source": []
  }
 ],
 "metadata": {
  "kernelspec": {
   "display_name": "Python 3 (ipykernel)",
   "language": "python",
   "name": "python3"
  },
  "language_info": {
   "codemirror_mode": {
    "name": "ipython",
    "version": 3
   },
   "file_extension": ".py",
   "mimetype": "text/x-python",
   "name": "python",
   "nbconvert_exporter": "python",
   "pygments_lexer": "ipython3",
   "version": "3.10.13"
  }
 },
 "nbformat": 4,
 "nbformat_minor": 5
}
