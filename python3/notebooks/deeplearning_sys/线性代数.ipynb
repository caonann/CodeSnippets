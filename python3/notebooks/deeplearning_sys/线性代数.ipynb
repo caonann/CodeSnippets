{
 "cells": [
  {
   "cell_type": "code",
   "execution_count": 53,
   "id": "6b9983b4-385c-49df-84be-860bfa0f4042",
   "metadata": {},
   "outputs": [],
   "source": [
    "import torch"
   ]
  },
  {
   "cell_type": "code",
   "execution_count": 54,
   "id": "ee8310c9-64ee-4416-8163-68ea8a5fce10",
   "metadata": {},
   "outputs": [
    {
     "data": {
      "text/plain": [
       "100"
      ]
     },
     "execution_count": 54,
     "metadata": {},
     "output_type": "execute_result"
    }
   ],
   "source": [
    "_ = torch.arange(100)\n",
    "len(_)\n"
   ]
  },
  {
   "cell_type": "code",
   "execution_count": 55,
   "id": "406ec724-67bb-4093-8cf6-a5a87a78569b",
   "metadata": {},
   "outputs": [
    {
     "data": {
      "text/plain": [
       "torch.Size([100])"
      ]
     },
     "execution_count": 55,
     "metadata": {},
     "output_type": "execute_result"
    }
   ],
   "source": [
    "_.shape"
   ]
  },
  {
   "cell_type": "code",
   "execution_count": 128,
   "id": "ab9bc813-03d6-4aa6-817f-a638bbffa564",
   "metadata": {},
   "outputs": [
    {
     "data": {
      "text/plain": [
       "tensor([[ 0,  1,  2,  3,  4],\n",
       "        [ 5,  6,  7,  8,  9],\n",
       "        [10, 11, 12, 13, 14],\n",
       "        [15, 16, 17, 18, 19]])"
      ]
     },
     "execution_count": 128,
     "metadata": {},
     "output_type": "execute_result"
    }
   ],
   "source": [
    "a = torch.arange(20).reshape(4,5)\n",
    "a"
   ]
  },
  {
   "cell_type": "code",
   "execution_count": 129,
   "id": "db7e4c37-6aa1-46c3-8d74-e8d15d6dc1b6",
   "metadata": {},
   "outputs": [
    {
     "data": {
      "text/plain": [
       "tensor([[ 0,  5, 10, 15],\n",
       "        [ 1,  6, 11, 16],\n",
       "        [ 2,  7, 12, 17],\n",
       "        [ 3,  8, 13, 18],\n",
       "        [ 4,  9, 14, 19]])"
      ]
     },
     "execution_count": 129,
     "metadata": {},
     "output_type": "execute_result"
    }
   ],
   "source": [
    "a.T"
   ]
  },
  {
   "cell_type": "code",
   "execution_count": 130,
   "id": "258f8312-69e7-415b-9aee-da2d1d6d8645",
   "metadata": {},
   "outputs": [
    {
     "data": {
      "text/plain": [
       "tensor([[0, 0, 0, 0, 0],\n",
       "        [0, 0, 0, 0, 0],\n",
       "        [0, 0, 0, 0, 0],\n",
       "        [0, 0, 0, 0, 0]])"
      ]
     },
     "execution_count": 130,
     "metadata": {},
     "output_type": "execute_result"
    }
   ],
   "source": [
    "b = torch.zeros_like(a)\n",
    "b"
   ]
  },
  {
   "cell_type": "code",
   "execution_count": 131,
   "id": "6b5b7c23-300c-4dda-bf18-dfc651322f16",
   "metadata": {},
   "outputs": [
    {
     "data": {
      "text/plain": [
       "tensor([[0, 0, 0, 0, 0],\n",
       "        [0, 0, 0, 0, 0],\n",
       "        [0, 0, 0, 0, 0],\n",
       "        [0, 0, 0, 0, 0]])"
      ]
     },
     "execution_count": 131,
     "metadata": {},
     "output_type": "execute_result"
    }
   ],
   "source": [
    "b*a"
   ]
  },
  {
   "cell_type": "code",
   "execution_count": 134,
   "id": "7bdea278-6c01-4556-9de9-28d8642fa1a2",
   "metadata": {},
   "outputs": [
    {
     "name": "stdout",
     "output_type": "stream",
     "text": [
      "tensor([[ 0,  1,  2,  3,  4],\n",
      "        [ 5,  6,  7,  8,  9],\n",
      "        [10, 11, 12, 13, 14],\n",
      "        [15, 16, 17, 18, 19]])\n"
     ]
    },
    {
     "data": {
      "text/plain": [
       "tensor([30, 34, 38, 42, 46])"
      ]
     },
     "execution_count": 134,
     "metadata": {},
     "output_type": "execute_result"
    }
   ],
   "source": [
    "print(a)\n",
    "a.sum(axis=0)"
   ]
  },
  {
   "cell_type": "code",
   "execution_count": 61,
   "id": "28061544-6a7c-48b1-a7ad-da2e5042b905",
   "metadata": {},
   "outputs": [
    {
     "name": "stdout",
     "output_type": "stream",
     "text": [
      "torch.Size([4, 5])\n",
      "tensor([[ 2.],\n",
      "        [ 7.],\n",
      "        [12.],\n",
      "        [17.]], dtype=torch.float16)\n"
     ]
    }
   ],
   "source": [
    "a = a.to(dtype=torch.float16)\n",
    "print(a.shape)\n",
    "mean_a = a.mean(axis=1,keepdims=True)\n",
    "print(mean_a)"
   ]
  },
  {
   "cell_type": "code",
   "execution_count": 63,
   "id": "3e23547f-12e3-4a9c-bb82-900302ef5feb",
   "metadata": {},
   "outputs": [
    {
     "name": "stdout",
     "output_type": "stream",
     "text": [
      "tensor([[ 0.,  1.,  2.,  3.,  4.],\n",
      "        [ 5.,  6.,  7.,  8.,  9.],\n",
      "        [10., 11., 12., 13., 14.],\n",
      "        [15., 16., 17., 18., 19.]], dtype=torch.float16)\n"
     ]
    },
    {
     "data": {
      "text/plain": [
       "tensor([[0.0000, 0.5000, 1.0000, 1.5000, 2.0000],\n",
       "        [0.7144, 0.8569, 1.0000, 1.1426, 1.2861],\n",
       "        [0.8335, 0.9165, 1.0000, 1.0830, 1.1670],\n",
       "        [0.8823, 0.9414, 1.0000, 1.0586, 1.1172]], dtype=torch.float16)"
      ]
     },
     "execution_count": 63,
     "metadata": {},
     "output_type": "execute_result"
    }
   ],
   "source": [
    "print(a)\n",
    "a/mean_a"
   ]
  },
  {
   "cell_type": "markdown",
   "id": "14edfd1c-372d-40fd-8bef-5e27b4eb9d85",
   "metadata": {},
   "source": [
    "# 矩阵的点积"
   ]
  },
  {
   "cell_type": "code",
   "execution_count": 83,
   "id": "c510e597-1da4-4fbe-b441-3adb4fb07c1e",
   "metadata": {},
   "outputs": [],
   "source": [
    "a = torch.tensor([1,2,3],dtype=torch.float)"
   ]
  },
  {
   "cell_type": "code",
   "execution_count": 84,
   "id": "c44272f6-7ce0-46df-bb6b-34f781d6550a",
   "metadata": {},
   "outputs": [
    {
     "data": {
      "text/plain": [
       "tensor([2., 2., 2.])"
      ]
     },
     "execution_count": 84,
     "metadata": {},
     "output_type": "execute_result"
    }
   ],
   "source": [
    "b = torch.ones(a.shape)+1\n",
    "b"
   ]
  },
  {
   "cell_type": "code",
   "execution_count": 85,
   "id": "fecdbe25-0406-4b03-83ac-aac4c6c0d543",
   "metadata": {},
   "outputs": [
    {
     "data": {
      "text/plain": [
       "tensor(12.)"
      ]
     },
     "execution_count": 85,
     "metadata": {},
     "output_type": "execute_result"
    }
   ],
   "source": [
    "torch.sum(a*b)"
   ]
  },
  {
   "cell_type": "code",
   "execution_count": 86,
   "id": "83126699-efb2-4b7a-a130-933ca9289248",
   "metadata": {},
   "outputs": [
    {
     "data": {
      "text/plain": [
       "(tensor([1., 2., 3.]), tensor([2., 2., 2.]))"
      ]
     },
     "execution_count": 86,
     "metadata": {},
     "output_type": "execute_result"
    }
   ],
   "source": [
    "a,b"
   ]
  },
  {
   "cell_type": "code",
   "execution_count": 88,
   "id": "c856bb6a-40f3-4d6a-a66e-475092d126d9",
   "metadata": {},
   "outputs": [
    {
     "data": {
      "text/plain": [
       "tensor(12.)"
      ]
     },
     "execution_count": 88,
     "metadata": {},
     "output_type": "execute_result"
    }
   ],
   "source": [
    "torch.dot(a,b)"
   ]
  },
  {
   "cell_type": "markdown",
   "id": "a447f0e4-7811-4b2c-b13e-c5d63a6a2331",
   "metadata": {},
   "source": [
    "# 矩阵的向量积\n",
    "矩阵乘以一维的向量"
   ]
  },
  {
   "cell_type": "code",
   "execution_count": 105,
   "id": "c6c2046e-f732-4286-b1f4-b14dfaac1995",
   "metadata": {},
   "outputs": [
    {
     "data": {
      "text/plain": [
       "tensor([[ 0,  1,  2,  3],\n",
       "        [ 4,  5,  6,  7],\n",
       "        [ 8,  9, 10, 11],\n",
       "        [12, 13, 14, 15],\n",
       "        [16, 17, 18, 19]])"
      ]
     },
     "execution_count": 105,
     "metadata": {},
     "output_type": "execute_result"
    }
   ],
   "source": [
    "A = torch.arange(20).reshape(5,4)\n",
    "A"
   ]
  },
  {
   "cell_type": "code",
   "execution_count": 110,
   "id": "b1e9a8af-1731-4c29-82df-737b207f25eb",
   "metadata": {},
   "outputs": [
    {
     "data": {
      "text/plain": [
       "tensor([1, 1, 1, 1])"
      ]
     },
     "execution_count": 110,
     "metadata": {},
     "output_type": "execute_result"
    }
   ],
   "source": [
    "a1 = torch.ones(4,dtype=torch.int64)\n",
    "a1"
   ]
  },
  {
   "cell_type": "code",
   "execution_count": 111,
   "id": "e0fe1d2c-6acf-4fe2-9d54-523f38e98534",
   "metadata": {},
   "outputs": [
    {
     "data": {
      "text/plain": [
       "tensor([ 6, 22, 38, 54, 70])"
      ]
     },
     "execution_count": 111,
     "metadata": {},
     "output_type": "execute_result"
    }
   ],
   "source": [
    "torch.mv(A,a1)"
   ]
  },
  {
   "cell_type": "markdown",
   "id": "8d9f8e11-90bd-41e5-ac84-737a4317b588",
   "metadata": {},
   "source": [
    "# 矩阵乘法"
   ]
  },
  {
   "cell_type": "code",
   "execution_count": 113,
   "id": "0aca65a3-73f1-4fd9-818e-7e165e4cbdc9",
   "metadata": {},
   "outputs": [
    {
     "data": {
      "text/plain": [
       "(tensor([[1., 2., 3.],\n",
       "         [4., 5., 6.]]),\n",
       " tensor([[ 7.,  8.],\n",
       "         [ 9., 10.],\n",
       "         [11., 12.]]))"
      ]
     },
     "execution_count": 113,
     "metadata": {},
     "output_type": "execute_result"
    }
   ],
   "source": [
    "A = torch.tensor([[1, 2, 3], [4, 5, 6]], dtype=torch.float32)\n",
    "B = torch.tensor([[7, 8], [9, 10], [11, 12]], dtype=torch.float32)\n",
    "A,B"
   ]
  },
  {
   "cell_type": "markdown",
   "id": "393c7843-c5b7-4c29-916c-2ce09adfad1c",
   "metadata": {},
   "source": [
    "下面这三种用法是等效的，但是也有一点区别\n",
    "`@`符号是矩阵乘的简化写法\n",
    "\n",
    "`torch.mm` 和 `torch.matmul` 都是 PyTorch 中用于矩阵乘法的函数，但它们的行为在处理不同维度的输入时有所不同。\n",
    "\n",
    "### torch.mm\n",
    "\n",
    "- `torch.mm` 只接受两个二维张量（即矩阵）作为输入，并返回两个矩阵的乘积作为输出。\n",
    "- 如果尝试用 `torch.mm` 对非二维张量进行乘法运算，将会抛出错误。\n",
    "- 它仅仅执行标准的矩阵乘法，没有广播（broadcasting）功能。\n",
    "\n",
    "### torch.matmul\n",
    "\n",
    "- `torch.matmul` 是一个更通用的矩阵乘法函数，它可以处理两个张量的乘法，这两个张量可以是任意维度。\n",
    "- 当输入是二维张量时，`torch.matmul` 的行为和 `torch.mm` 相同。\n",
    "- 当输入包含高于二维的张量时，`torch.matmul` 会执行批量矩阵乘法操作。在这种情况下，它会将输入张量的额外维度视为批量大小，并对每个批量执行矩阵乘法。\n",
    "- `torch.matmul` 支持广播功能。如果两个张量的维度不匹配，但是它们可以根据广播规则扩展到相同的维度，则 `torch.matmul` 会自动扩展它们以执行乘法。"
   ]
  },
  {
   "cell_type": "code",
   "execution_count": 116,
   "id": "e24d7d74-8a39-4d63-82b3-0527aac11c95",
   "metadata": {},
   "outputs": [
    {
     "data": {
      "text/plain": [
       "(tensor([[ 58.,  64.],\n",
       "         [139., 154.]]),\n",
       " tensor([[ 58.,  64.],\n",
       "         [139., 154.]]),\n",
       " tensor([[ 58.,  64.],\n",
       "         [139., 154.]]))"
      ]
     },
     "execution_count": 116,
     "metadata": {},
     "output_type": "execute_result"
    }
   ],
   "source": [
    "torch.mm(A,B),torch.matmul(A,B),A@B"
   ]
  },
  {
   "cell_type": "code",
   "execution_count": 118,
   "id": "6580f3d8-762a-4fcf-b0c7-a4350e6060fc",
   "metadata": {},
   "outputs": [
    {
     "data": {
      "text/plain": [
       "(tensor([[[ 1.,  2.,  3.],\n",
       "          [ 4.,  5.,  6.]],\n",
       " \n",
       "         [[ 7.,  8.,  9.],\n",
       "          [10., 11., 12.]]]),\n",
       " tensor([[ 7.,  8.],\n",
       "         [ 9., 10.],\n",
       "         [11., 12.]]))"
      ]
     },
     "execution_count": 118,
     "metadata": {},
     "output_type": "execute_result"
    }
   ],
   "source": [
    "# 创建一个3维张量，大小为 2x2x3\n",
    "C = torch.tensor([[[1, 2, 3], [4, 5, 6]], [[7, 8, 9], [10, 11, 12]]], dtype=torch.float32)\n",
    "\n",
    "# 创建一个2x3的矩阵\n",
    "D = torch.tensor([[7, 8], [9, 10], [11, 12]], dtype=torch.float32)\n",
    "C,D"
   ]
  },
  {
   "cell_type": "code",
   "execution_count": 120,
   "id": "586aa91d-6964-4fe5-a2a0-e8eacc4a2c3b",
   "metadata": {},
   "outputs": [
    {
     "data": {
      "text/plain": [
       "(tensor([[[ 58.,  64.],\n",
       "          [139., 154.]],\n",
       " \n",
       "         [[220., 244.],\n",
       "          [301., 334.]]]),\n",
       " tensor([[[ 58.,  64.],\n",
       "          [139., 154.]],\n",
       " \n",
       "         [[220., 244.],\n",
       "          [301., 334.]]]))"
      ]
     },
     "execution_count": 120,
     "metadata": {},
     "output_type": "execute_result"
    }
   ],
   "source": [
    "C@D,torch.matmul(C,D)"
   ]
  },
  {
   "cell_type": "markdown",
   "id": "929223fa-6894-42e4-aecb-70b60104f640",
   "metadata": {},
   "source": [
    "# 范数"
   ]
  },
  {
   "cell_type": "code",
   "execution_count": 136,
   "id": "27248e2b-c54a-430e-8f21-c23160ee9891",
   "metadata": {},
   "outputs": [
    {
     "data": {
      "text/plain": [
       "tensor(8.4575)"
      ]
     },
     "execution_count": 136,
     "metadata": {},
     "output_type": "execute_result"
    }
   ],
   "source": [
    "u=torch.tensor([3.0,4.2,6.7])\n",
    "torch.norm(u)"
   ]
  }
 ],
 "metadata": {
  "kernelspec": {
   "display_name": "Python 3 (ipykernel)",
   "language": "python",
   "name": "python3"
  },
  "language_info": {
   "codemirror_mode": {
    "name": "ipython",
    "version": 3
   },
   "file_extension": ".py",
   "mimetype": "text/x-python",
   "name": "python",
   "nbconvert_exporter": "python",
   "pygments_lexer": "ipython3",
   "version": "3.10.13"
  }
 },
 "nbformat": 4,
 "nbformat_minor": 5
}
