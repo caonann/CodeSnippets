{
 "cells": [
  {
   "cell_type": "code",
   "execution_count": 1,
   "id": "50a8a497-a753-4705-b4be-a1fc32692c4a",
   "metadata": {},
   "outputs": [],
   "source": [
    "import requests"
   ]
  },
  {
   "cell_type": "code",
   "execution_count": 1,
   "id": "7ca26676-21f7-472c-94c7-21a969967403",
   "metadata": {},
   "outputs": [],
   "source": [
    "import torch"
   ]
  },
  {
   "cell_type": "code",
   "execution_count": 7,
   "id": "f0a5b577-4f74-4073-bc02-737f8c091f03",
   "metadata": {},
   "outputs": [],
   "source": [
    "x = torch.rand(1,2,3,dtype=torch.float16)"
   ]
  },
  {
   "cell_type": "code",
   "execution_count": 9,
   "id": "c8dd42ac-e672-4bb6-bbc3-0a524ef96b06",
   "metadata": {},
   "outputs": [
    {
     "data": {
      "text/plain": [
       "tensor([[[0.4443],\n",
       "         [0.9077]],\n",
       "\n",
       "        [[0.6689],\n",
       "         [0.1050]],\n",
       "\n",
       "        [[0.2808],\n",
       "         [0.1377]]], dtype=torch.float16)"
      ]
     },
     "execution_count": 9,
     "metadata": {},
     "output_type": "execute_result"
    }
   ],
   "source": [
    "x.shape\n",
    "x.reshape(3,2,-1)"
   ]
  }
 ],
 "metadata": {
  "kernelspec": {
   "display_name": "Python 3 (ipykernel)",
   "language": "python",
   "name": "python3"
  },
  "language_info": {
   "codemirror_mode": {
    "name": "ipython",
    "version": 3
   },
   "file_extension": ".py",
   "mimetype": "text/x-python",
   "name": "python",
   "nbconvert_exporter": "python",
   "pygments_lexer": "ipython3",
   "version": "3.10.13"
  }
 },
 "nbformat": 4,
 "nbformat_minor": 5
}
