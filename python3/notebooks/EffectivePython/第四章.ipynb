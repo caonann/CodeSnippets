{
 "cells": [
  {
   "cell_type": "markdown",
   "id": "b70f4285",
   "metadata": {},
   "source": [
    "# 27. 用列表推导取代map与filter\n",
    "list,dict,set都可以用列表推导，好处是简洁易懂\n"
   ]
  },
  {
   "cell_type": "code",
   "execution_count": 1,
   "id": "ad547427",
   "metadata": {},
   "outputs": [
    {
     "name": "stdout",
     "output_type": "stream",
     "text": [
      "[4, 16, 36, 64, 100]\n"
     ]
    }
   ],
   "source": [
    "a = [1,2,3,4,5,6,7,8,9,10]\n",
    "a_square = [i**2 for i in a if i%2==0]\n",
    "print(a_square)"
   ]
  },
  {
   "cell_type": "code",
   "execution_count": 2,
   "id": "c71cffa7",
   "metadata": {},
   "outputs": [
    {
     "name": "stdout",
     "output_type": "stream",
     "text": [
      "{2: 4, 4: 16, 6: 36, 8: 64, 10: 100}\n"
     ]
    }
   ],
   "source": [
    "a_dict_square={i:i**2 for i in a if i%2==0}\n",
    "print(a_dict_square)"
   ]
  },
  {
   "cell_type": "code",
   "execution_count": 4,
   "id": "3f3ee8d8",
   "metadata": {},
   "outputs": [
    {
     "name": "stdout",
     "output_type": "stream",
     "text": [
      "{64, 100, 4, 36, 16}\n"
     ]
    }
   ],
   "source": [
    "a_set_square={i**2 for i in a if i%2==0}\n",
    "print(a_set_square)"
   ]
  },
  {
   "cell_type": "markdown",
   "id": "4459e6e2",
   "metadata": {},
   "source": [
    "不过要注意：\n",
    "推导的时候可以使用多层循环，每层循环可以带有多个条件。\n",
    "控制推导逻辑的子表达式不要超过两个，否则代码很难读懂。\n",
    "\n",
    "把矩阵（一种二维列表，它的每个元素本身也是列表）转化成普通的一维列表，那么可以在推导时，使用两条for子表达式。这些子表达式会按照从左到右的顺序解读"
   ]
  },
  {
   "cell_type": "code",
   "execution_count": 11,
   "id": "9fe25b77",
   "metadata": {},
   "outputs": [
    {
     "name": "stdout",
     "output_type": "stream",
     "text": [
      "[1, 4, 9, 16, 25, 36, 49, 64, 81]\n",
      "[[4], [16, 36], [64]]\n"
     ]
    }
   ],
   "source": [
    "matrix=[[1,2,3],[4,5,6],[7,8,9]]\n",
    "flat = [x**2 for row in matrix if len(row) >=0 for x in row ]\n",
    "print(flat)\n",
    "new_matrix = [[x**2 for x in row if x %2 ==0] for row in matrix]\n",
    "print(new_matrix)"
   ]
  },
  {
   "cell_type": "markdown",
   "id": "a768ab57",
   "metadata": {},
   "source": [
    "# 29. 用复制表达式消除推导中的重复代码\n"
   ]
  },
  {
   "cell_type": "code",
   "execution_count": 16,
   "id": "1b4bf6c3",
   "metadata": {},
   "outputs": [
    {
     "name": "stdout",
     "output_type": "stream",
     "text": [
      "[1, 4, 9, 16, 25, 36, 49, 64, 100] 100\n",
      "10\n"
     ]
    }
   ],
   "source": [
    "b = [tmp for i in a if (tmp:= i**2)!=81]\n",
    "print(b,tmp)  # 新版本里tmp还是会泄漏出去这个和for循环一样\n",
    "\n",
    "for count in a:\n",
    "    pass\n",
    "print(count)"
   ]
  },
  {
   "cell_type": "markdown",
   "id": "417910b1",
   "metadata": {},
   "source": [
    "如果推导逻辑不带条件，而表示新值的那一部分又使用了:=操作符，那么操作符左边的变量就会泄漏到包含这条推导语句的那个作用域里。如果推导逻辑不带条件，而表示新值的那一部分又使用了:=操作符，那么操作符左边的变量就会泄漏到包含这条推导语句的那个作用域里"
   ]
  },
  {
   "cell_type": "markdown",
   "id": "fb810a03",
   "metadata": {},
   "source": [
    "# 30. 不让函数直接返回列表，而是逐个生成列表里的值\n"
   ]
  },
  {
   "cell_type": "code",
   "execution_count": 21,
   "id": "af2d8ca6",
   "metadata": {},
   "outputs": [
    {
     "name": "stdout",
     "output_type": "stream",
     "text": [
      "<generator object index_words_iter at 0x7f732838aeb0>,0\n",
      "it index 2\n",
      "it index 8\n",
      "it index 11\n",
      "it index 16\n"
     ]
    }
   ],
   "source": [
    "def index_words_iter(text):\n",
    "    if text:\n",
    "        yield 0\n",
    "    for index,letter in enumerate(text):\n",
    "        if letter == ' ':\n",
    "            yield index+1\n",
    "test_str='a world is used here'\n",
    "it = index_words_iter(test_str)\n",
    "print(f'{it},{next(it)}')\n",
    "#list(it)  迭代器只能产生一次结果。假如迭代器或生成器已经抛出过StopIteration异常，\n",
    "# 继续用它来构造列表或是像normalize那样对它做for循环，那它不会给出任何结果\n",
    "\n",
    "for i in it:\n",
    "    print(f'it index {i}')"
   ]
  },
  {
   "cell_type": "markdown",
   "id": "5809c1f4",
   "metadata": {},
   "source": [
    "# 31 谨慎迭代函数收到的参数，注意重复迭代时的处理办法"
   ]
  },
  {
   "cell_type": "code",
   "execution_count": 26,
   "id": "4f1b15f8",
   "metadata": {},
   "outputs": [
    {
     "name": "stdout",
     "output_type": "stream",
     "text": [
      "[]\n"
     ]
    }
   ],
   "source": [
    "def normalize(numbers):\n",
    "    total = sum(numbers)\n",
    "    return [100*value/total for value in numbers ]\n",
    "\n",
    "test_n = [1,2,3,5,7,8,9]\n",
    "ret = normalize(test_n)\n",
    "assert sum(ret) == 100\n",
    "\n",
    "def genrate_n():\n",
    "    for i in range(10):\n",
    "        yield i\n",
    "\n",
    "ret = normalize(genrate_n())\n",
    "print(ret) # 这里ret返回值是空，因为在normalize里，sum已经使用过传入的迭代器了，同一个迭代器不能用两次"
   ]
  },
  {
   "cell_type": "code",
   "execution_count": 30,
   "id": "dd810cf6",
   "metadata": {},
   "outputs": [],
   "source": [
    "# 解决方法1,但是这种方法要改动原函数，不优雅\n",
    "def normalize1(get_iter_func):\n",
    "    total = sum(get_iter_func())\n",
    "    return [100*value/total for value in get_iter_func()]\n",
    "\n",
    "ret = normalize1(lambda:genrate_n())\n",
    "assert sum(ret) == 100"
   ]
  },
  {
   "cell_type": "code",
   "execution_count": 32,
   "id": "ecdd736c",
   "metadata": {},
   "outputs": [],
   "source": [
    "# 解决方法2，用一种实现迭代器协议的容器\n",
    "\n",
    "class TestIter:\n",
    "    def __init__(self,range_len):\n",
    "        self.length = range_len\n",
    "    def __iter__(self):\n",
    "        for i in range(self.length):\n",
    "            yield i\n",
    "\n",
    "ret = normalize(TestIter(10))\n",
    "assert sum(ret)==100"
   ]
  },
  {
   "cell_type": "markdown",
   "id": "1ca51d87",
   "metadata": {},
   "source": [
    "默认的list,dict,set其实都是这种容器，怎样判断一个变量是不是这种实现迭代器协议的容器？"
   ]
  },
  {
   "cell_type": "code",
   "execution_count": 37,
   "id": "22b5464e",
   "metadata": {},
   "outputs": [
    {
     "name": "stdout",
     "output_type": "stream",
     "text": [
      "不支持重复迭代\n"
     ]
    }
   ],
   "source": [
    "# 方法1 普通的迭代器传给内置的iter函数，那么函数会把迭代器本身返回给调用者。反之，如果传来的是容器类型\n",
    "\n",
    "def judge_iter(tmp):\n",
    "    if iter(tmp) is tmp:\n",
    "        raise TypeError('不支持重复迭代')\n",
    "try:\n",
    "    it = genrate_n()\n",
    "    judge_iter(it)\n",
    "except TypeError:\n",
    "    print('不支持重复迭代')\n",
    "\n",
    "judge_iter(list('abc')) # 默认的list是支持重复迭代的容器"
   ]
  },
  {
   "cell_type": "code",
   "execution_count": 38,
   "id": "62b4ee88",
   "metadata": {},
   "outputs": [
    {
     "name": "stdout",
     "output_type": "stream",
     "text": [
      "不支持重复迭代\n"
     ]
    }
   ],
   "source": [
    "# 方法2 collections.abc内置模块里定义了名为Iterator的类，它用在isinstance函数中，可以判断自己收到的参数是不是这种实例。如果是，就抛出异常\n",
    "from collections.abc import Iterator\n",
    "\n",
    "tmp = genrate_n()\n",
    "if isinstance(tmp,Iterator):\n",
    "    print('不支持重复迭代')"
   ]
  },
  {
   "cell_type": "markdown",
   "id": "08d27111",
   "metadata": {},
   "source": [
    "# 32 用生成表达式改写数据量较大的列表推导\n"
   ]
  }
 ],
 "metadata": {
  "kernelspec": {
   "display_name": "Python 3 (ipykernel)",
   "language": "python",
   "name": "python3"
  },
  "language_info": {
   "codemirror_mode": {
    "name": "ipython",
    "version": 3
   },
   "file_extension": ".py",
   "mimetype": "text/x-python",
   "name": "python",
   "nbconvert_exporter": "python",
   "pygments_lexer": "ipython3",
   "version": "3.9.5"
  }
 },
 "nbformat": 4,
 "nbformat_minor": 5
}
