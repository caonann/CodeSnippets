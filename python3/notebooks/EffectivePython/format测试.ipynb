{
 "cells": [
  {
   "cell_type": "code",
   "execution_count": 1,
   "id": "2b749e6b-ba68-4cab-aa81-0a030fcecc3c",
   "metadata": {},
   "outputs": [
    {
     "data": {
      "text/plain": [
       "'heloo 123 '"
      ]
     },
     "execution_count": 1,
     "metadata": {},
     "output_type": "execute_result"
    }
   ],
   "source": [
    "format_dict={\n",
    "    \"aaa\":\"123\",\n",
    "    \"bbb\":\"456\"\n",
    "}\n",
    "\n",
    "prompt = \"\"\"heloo {aaa} \"\"\"\n",
    "\n",
    "prompt.format(**format_dict)\n"
   ]
  }
 ],
 "metadata": {
  "kernelspec": {
   "display_name": "Python 3 (ipykernel)",
   "language": "python",
   "name": "python3"
  },
  "language_info": {
   "codemirror_mode": {
    "name": "ipython",
    "version": 3
   },
   "file_extension": ".py",
   "mimetype": "text/x-python",
   "name": "python",
   "nbconvert_exporter": "python",
   "pygments_lexer": "ipython3",
   "version": "3.10.13"
  }
 },
 "nbformat": 4,
 "nbformat_minor": 5
}
