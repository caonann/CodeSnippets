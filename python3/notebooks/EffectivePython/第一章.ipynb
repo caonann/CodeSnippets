{
 "cells": [
  {
   "cell_type": "markdown",
   "id": "6cbb744b",
   "metadata": {},
   "source": [
    "# 3. bytes 与str的区别"
   ]
  },
  {
   "cell_type": "code",
   "execution_count": 24,
   "id": "6bff177b",
   "metadata": {},
   "outputs": [
    {
     "name": "stdout",
     "output_type": "stream",
     "text": [
      "list(a)=[104, 101, 108, 108, 111],list(b)=['h', 'e', 'l', 'l', 'o']\n"
     ]
    }
   ],
   "source": [
    "# bytes实例包含的是原始数据，即8位的无符号值，通常ascii编码显示\n",
    "# str包含的是unicode码点，与人类语言中的文本字符相对应\n",
    "a = b'hello'\n",
    "b = 'hello'\n",
    "print(f'{list(a)=},{list(b)=}')"
   ]
  },
  {
   "cell_type": "markdown",
   "id": "f82475eb",
   "metadata": {},
   "source": [
    "# 4.f-string相关用法\n",
    "python3.6以后，支持f-string,推荐尽量所有涉及格式上的输出都用这种方法"
   ]
  },
  {
   "cell_type": "code",
   "execution_count": 2,
   "id": "ad9cfeda",
   "metadata": {
    "scrolled": true
   },
   "outputs": [
    {
     "name": "stdout",
     "output_type": "stream",
     "text": [
      "the number is 1.235\n"
     ]
    }
   ],
   "source": [
    "places=3\n",
    "number = 1.234567\n",
    "# 可以灵活指定小数点后几位数字\n",
    "print(f'the number is {number:.{places}f}')"
   ]
  },
  {
   "cell_type": "markdown",
   "id": "d39e5cc4",
   "metadata": {},
   "source": [
    "python3.9以后支持变量名字的直接输出和格式化"
   ]
  },
  {
   "cell_type": "code",
   "execution_count": 6,
   "id": "13abeef3",
   "metadata": {},
   "outputs": [
    {
     "name": "stdout",
     "output_type": "stream",
     "text": [
      " str_value = 'hello，python coders'\n",
      "num_value % 2 = 1\n",
      " 20211227\n",
      "today = 20211227\n"
     ]
    }
   ],
   "source": [
    "str_value = \"hello，python coders\"  \n",
    "print(f\"{ str_value = }\")  \n",
    "\n",
    "num_value = 123  \n",
    "print(f\"{num_value % 2 = }\") \n",
    "\n",
    "import datetime\n",
    "today = datetime.date.today()  \n",
    "print(f\"{today: %Y%m%d}\")  \n",
    "print(f\"{today =: %Y%m%d}\")  "
   ]
  },
  {
   "cell_type": "markdown",
   "id": "c06bf566",
   "metadata": {},
   "source": [
    "# 7.尽量用enumerate取代range\n",
    "\n",
    "如果在迭代中需要知道迭代的下标，enumerate能够把任何一种迭代器（iterator）封装成惰性生成器（lazygenerator）每次循环只从iterator里面获取下一个值，同时给出本轮循环序号，即生成器每次产生的一对输出值。下面通过内置的next函数手动推进enumerate所返回的这个iterator"
   ]
  },
  {
   "cell_type": "code",
   "execution_count": 9,
   "id": "14f0458b",
   "metadata": {},
   "outputs": [
    {
     "name": "stdout",
     "output_type": "stream",
     "text": [
      "(0, 'a')\n",
      "(1, 'ab')\n"
     ]
    }
   ],
   "source": [
    "test_list = ['a','ab','abc','abcd']\n",
    "it = enumerate(test_list)\n",
    "print(next(it))\n",
    "print(next(it))"
   ]
  },
  {
   "cell_type": "code",
   "execution_count": 10,
   "id": "085430e0",
   "metadata": {},
   "outputs": [
    {
     "name": "stdout",
     "output_type": "stream",
     "text": [
      "i=0,item='a'\n",
      "i=1,item='ab'\n",
      "i=2,item='abc'\n",
      "i=3,item='abcd'\n"
     ]
    }
   ],
   "source": [
    "for i,item in enumerate(test_list):\n",
    "    print(f'{i=},{item=}')"
   ]
  },
  {
   "cell_type": "code",
   "execution_count": 11,
   "id": "557c28e2",
   "metadata": {},
   "outputs": [
    {
     "name": "stdout",
     "output_type": "stream",
     "text": [
      "i=2,item='a'\n",
      "i=3,item='ab'\n",
      "i=4,item='abc'\n",
      "i=5,item='abcd'\n"
     ]
    }
   ],
   "source": [
    "# enumerate第二个参数指定从机开始计算，默认为0\n",
    "for i,item in enumerate(test_list,2):\n",
    "    print(f'{i=},{item=}')"
   ]
  },
  {
   "cell_type": "markdown",
   "id": "778d79aa",
   "metadata": {},
   "source": [
    "# 8. 用zip遍历两个迭代器\n",
    "\n",
    "主要用在遍历n个同样长度的列表，如果长度不一致，则按照短的循环遍历"
   ]
  },
  {
   "cell_type": "code",
   "execution_count": 12,
   "id": "da790fd4",
   "metadata": {},
   "outputs": [
    {
     "name": "stdout",
     "output_type": "stream",
     "text": [
      "name='cecilia',count=7\n",
      "name='lise',count=4\n",
      "name='marie',count=5\n"
     ]
    }
   ],
   "source": [
    "names = ['cecilia','lise','marie']\n",
    "counts = [len(n) for n in names]\n",
    "for name,count in zip(names,counts):\n",
    "    print(f'{name=},{count=}')"
   ]
  },
  {
   "cell_type": "code",
   "execution_count": 14,
   "id": "3857e20a",
   "metadata": {},
   "outputs": [
    {
     "name": "stdout",
     "output_type": "stream",
     "text": [
      "name='cecilia',count=7\n",
      "name='lise',count=4\n",
      "name='marie',count=5\n",
      "name='tom',count=None\n",
      "name='tom',count=None\n"
     ]
    }
   ],
   "source": [
    "from itertools import zip_longest\n",
    "names.append('tom')\n",
    "for name,count in zip_longest(names,counts):\n",
    "    print(f'{name=},{count=}')"
   ]
  },
  {
   "cell_type": "code",
   "execution_count": 15,
   "id": "e6abd006",
   "metadata": {},
   "outputs": [
    {
     "name": "stdout",
     "output_type": "stream",
     "text": [
      "name='cecilia',editname='ecilia',count=7\n",
      "name='lise',editname='ise',count=4\n",
      "name='marie',editname='arie',count=5\n"
     ]
    }
   ],
   "source": [
    "third_list = [i[1:] for i in names]\n",
    "for name,editname,count in zip(names,third_list,counts):\n",
    "    print(f'{name=},{editname=},{count=}')"
   ]
  },
  {
   "cell_type": "markdown",
   "id": "9719af2b",
   "metadata": {},
   "source": [
    "# 用赋值表达式减少重复代码\n",
    "赋值表达式是python3.8后引入的语法，会用到海象操作符 :=  一般用在条件表达式里面"
   ]
  },
  {
   "cell_type": "code",
   "execution_count": 20,
   "id": "14332540",
   "metadata": {},
   "outputs": [
    {
     "name": "stdout",
     "output_type": "stream",
     "text": [
      "make some lemon ,count=5\n"
     ]
    }
   ],
   "source": [
    "fresh_fruit = {\n",
    "    'apple':10,\n",
    "    'banana':8,\n",
    "    'lemon':5\n",
    "}\n",
    "\n",
    "'''\n",
    "这个赋值表达式先把:=右边的值赋给左边的count变量，然后对自身求值，也就是把变量的值当成整个表达式的值。\n",
    "由于表达式紧跟着if，程序会根据它的值是否非零来决定该不该执行if块。\n",
    "这种先赋值再判断的做法，正是海象操作符想要表达的意思\n",
    "'''\n",
    "if count:=fresh_fruit.get('lemon',0):\n",
    "    print(f'make some lemon ,{count=}')\n",
    "else:\n",
    "    print('out of stock')"
   ]
  },
  {
   "cell_type": "code",
   "execution_count": 22,
   "id": "91b17791",
   "metadata": {},
   "outputs": [
    {
     "name": "stdout",
     "output_type": "stream",
     "text": [
      "nothing count=5\n"
     ]
    }
   ],
   "source": [
    "#海象操作符也被经常用来swtich的场景\n",
    "if (count:= fresh_fruit.get('apple',0)) >= 11:\n",
    "    print(f'get apple {count=}')\n",
    "elif (count:=fresh_fruit.get('banana',0)) > 8:\n",
    "    print(f'get banana {count=}')\n",
    "elif (count:=fresh_fruit.get('lemon',0)) >20:\n",
    "    print(f'get lemon {count=}')\n",
    "else:\n",
    "    print(f'nothing {count=}')"
   ]
  },
  {
   "cell_type": "code",
   "execution_count": 23,
   "id": "bd604d50",
   "metadata": {},
   "outputs": [
    {
     "name": "stdout",
     "output_type": "stream",
     "text": [
      "fruit count is 10\n",
      "fruit count is 9\n",
      "fruit count is 8\n",
      "fruit count is 7\n",
      "fruit count is 6\n",
      "fruit count is 5\n",
      "fruit count is 4\n",
      "fruit count is 3\n",
      "fruit count is 2\n",
      "fruit count is 1\n"
     ]
    }
   ],
   "source": [
    "# 海象操作符也可以用来做do/while循环结构\n",
    "while count:=fresh_fruit.get('apple',0):\n",
    "    print(f'fruit count is {count}')\n",
    "    fresh_fruit['apple'] -=1"
   ]
  },
  {
   "cell_type": "code",
   "execution_count": null,
   "id": "00b63f75",
   "metadata": {},
   "outputs": [],
   "source": []
  }
 ],
 "metadata": {
  "kernelspec": {
   "display_name": "Python 3 (ipykernel)",
   "language": "python",
   "name": "python3"
  },
  "language_info": {
   "codemirror_mode": {
    "name": "ipython",
    "version": 3
   },
   "file_extension": ".py",
   "mimetype": "text/x-python",
   "name": "python",
   "nbconvert_exporter": "python",
   "pygments_lexer": "ipython3",
   "version": "3.9.5"
  }
 },
 "nbformat": 4,
 "nbformat_minor": 5
}
