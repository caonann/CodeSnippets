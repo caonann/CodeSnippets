{
 "cells": [
  {
   "cell_type": "markdown",
   "id": "1015bfae",
   "metadata": {},
   "source": [
    "# TestCase使用相关记录\n",
    "先定义一个要测试的函数"
   ]
  },
  {
   "cell_type": "code",
   "execution_count": 2,
   "id": "41860a93",
   "metadata": {},
   "outputs": [],
   "source": [
    "def to_str(data):\n",
    "    if isinstance(data,str):\n",
    "        return data\n",
    "    elif isinstance(data,bytes):\n",
    "        return data.decode('utf-8')\n",
    "    else:\n",
    "        raise TypeError(f'must supply str or bytes, found:{data!r}')"
   ]
  },
  {
   "cell_type": "code",
   "execution_count": 4,
   "id": "0daf117e",
   "metadata": {},
   "outputs": [],
   "source": [
    "from unittest import TestCase,main\n",
    "\n",
    "class UtilsTestCase(TestCase):\n",
    "    def test_to_str_bytes(self):\n",
    "        self.assertEqual('hello',to_str(b'hello'))\n",
    "    def test_to_str_str(self):\n",
    "        self.assertEqual('hello',to_str('hello'))\n",
    "    def test_failing(self):\n",
    "        self.assertEqual('incorrect',to_str('hello'))"
   ]
  },
  {
   "cell_type": "code",
   "execution_count": 7,
   "id": "b453db76",
   "metadata": {},
   "outputs": [
    {
     "name": "stderr",
     "output_type": "stream",
     "text": [
      "E\n",
      "======================================================================\n",
      "ERROR: /root/ (unittest.loader._FailedTest)\n",
      "----------------------------------------------------------------------\n",
      "AttributeError: module '__main__' has no attribute '/root/'\n",
      "\n",
      "----------------------------------------------------------------------\n",
      "Ran 1 test in 0.001s\n",
      "\n",
      "FAILED (errors=1)\n"
     ]
    },
    {
     "ename": "SystemExit",
     "evalue": "True",
     "output_type": "error",
     "traceback": [
      "An exception has occurred, use %tb to see the full traceback.\n",
      "\u001b[0;31mSystemExit\u001b[0m\u001b[0;31m:\u001b[0m True\n"
     ]
    },
    {
     "name": "stderr",
     "output_type": "stream",
     "text": [
      "/opt/conda/lib/python3.9/site-packages/IPython/core/interactiveshell.py:3452: UserWarning: To exit: use 'exit', 'quit', or Ctrl-D.\n",
      "  warn(\"To exit: use 'exit', 'quit', or Ctrl-D.\", stacklevel=1)\n"
     ]
    }
   ],
   "source": [
    "if __name__ == \"__main__\":\n",
    "    main()"
   ]
  },
  {
   "cell_type": "code",
   "execution_count": null,
   "id": "a8909784",
   "metadata": {},
   "outputs": [],
   "source": []
  }
 ],
 "metadata": {
  "kernelspec": {
   "display_name": "Python 3 (ipykernel)",
   "language": "python",
   "name": "python3"
  },
  "language_info": {
   "codemirror_mode": {
    "name": "ipython",
    "version": 3
   },
   "file_extension": ".py",
   "mimetype": "text/x-python",
   "name": "python",
   "nbconvert_exporter": "python",
   "pygments_lexer": "ipython3",
   "version": "3.9.5"
  }
 },
 "nbformat": 4,
 "nbformat_minor": 5
}
