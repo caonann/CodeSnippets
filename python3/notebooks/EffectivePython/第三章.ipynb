{
 "cells": [
  {
   "cell_type": "markdown",
   "id": "4f4e09a8",
   "metadata": {},
   "source": [
    "# 21. 函数闭包的作用域相关注意事项\n",
    "\n",
    "python支持闭包，定义在大函数里的小函数可以引用大函数作用域内的变量，函数在python中是头等对象\n",
    "\n",
    "在表达式中引用某个变量时，Python解释器会按照下面的顺序，在各个作用域（scope）里面查找这个变量，以解析（resolve）这次引用[1]。\n",
    "1）当前函数的作用域。\n",
    "2）外围作用域（例如包含当前函数的其他函数所对应的作用域）。\n",
    "3）包含当前代码的那个模块所对应的作用域（也叫全局作用域，global scope）。\n",
    "4）内置作用域（built-in scope，也就是包含len与str等函数的那个作用域）。\n",
    "如果这些作用域中都没有定义名称相符的变量，那么程序就抛出NameError异常\n"
   ]
  },
  {
   "cell_type": "markdown",
   "id": "43327fe6",
   "metadata": {},
   "source": [
    "python变量的赋值要注意，如果变量已经定义在当前作用域中，那么直接把新值交给它就行了。如果当前作用域中不存在这个变量，那么即便外围作用域里有同名的变量，Python也还是会把这次的赋值操作当成变量的定义来处理，这会产生一个重要的效果，也就是说，Python会把包含赋值操作的这个函数当成新定义的这个变量的作用域"
   ]
  },
  {
   "cell_type": "code",
   "execution_count": 2,
   "id": "65e3c5ba",
   "metadata": {},
   "outputs": [
    {
     "name": "stdout",
     "output_type": "stream",
     "text": [
      "[2, 8, 99, 3, 4, 5, 6, 9]\n",
      "found=False\n"
     ]
    }
   ],
   "source": [
    "numbers = [8,3,2,9,6,5,4,99]\n",
    "group = [8,99,2]\n",
    "def sort_priority(values,group):\n",
    "    found = False\n",
    "    def helper(x):\n",
    "        if x in group:\n",
    "            found = True # 实际上，这里的found相当于新变量来定义，并不会传递给上层的found\n",
    "            return (0 ,x)\n",
    "        return (1,x)\n",
    "    numbers.sort(key=helper)\n",
    "    return found\n",
    "\n",
    "found = sort_priority(numbers,group)\n",
    "print(numbers)\n",
    "print(f'{found=}') # 返回结果还是False"
   ]
  },
  {
   "cell_type": "markdown",
   "id": "fd566f9a",
   "metadata": {},
   "source": [
    "Python有一种特殊的写法，可以把闭包里面的数据赋给闭包外面的变量。 nonlocal语句描述变量，可以让系统在处理针对这个变量的赋值操作时，去外围作用域查找。有一种跟它互补的语句，叫作global，用这种语句描述某个变量后，在给这个变量赋值时，系统会直接把它放到模块作用域（或者说全局作用域）中"
   ]
  },
  {
   "cell_type": "code",
   "execution_count": 4,
   "id": "30a19155",
   "metadata": {},
   "outputs": [
    {
     "name": "stdout",
     "output_type": "stream",
     "text": [
      "found=True\n"
     ]
    }
   ],
   "source": [
    "def sort_priority(values,group):\n",
    "    found = False\n",
    "    def helper(x):\n",
    "        nonlocal found\n",
    "        if x in group:\n",
    "            found = True # 实际上，这里的found相当于新变量来定义，并不会传递给上层的found\n",
    "            return (0 ,x)\n",
    "        return (1,x)\n",
    "    numbers.sort(key=helper)\n",
    "    return found\n",
    "\n",
    "found = sort_priority(numbers,group)\n",
    "print(f'{found=}') # 返回结果为True"
   ]
  },
  {
   "cell_type": "markdown",
   "id": "0a77a78f",
   "metadata": {},
   "source": [
    "nonlocal语句并不是推荐经常使用，因为其造成的副作用有时很难发现，更推荐下面的辅助类方法，更加清晰"
   ]
  },
  {
   "cell_type": "code",
   "execution_count": 6,
   "id": "137a8617",
   "metadata": {},
   "outputs": [
    {
     "name": "stdout",
     "output_type": "stream",
     "text": [
      "numbers=[2, 8, 99, 3, 4, 5, 6, 9],True\n"
     ]
    }
   ],
   "source": [
    "class Sorter:\n",
    "    def __init__(self,group):\n",
    "        self.found = False\n",
    "        self.group=group\n",
    "    def __call__(self,x):\n",
    "        if x in group:\n",
    "            self.found = True\n",
    "            return (0,x)\n",
    "        return (1,x)\n",
    "    \n",
    "sorter = Sorter(group)\n",
    "numbers.sort(key=sorter)\n",
    "print(f'{numbers=},{sorter.found}')"
   ]
  },
  {
   "cell_type": "markdown",
   "id": "8f5ca05c",
   "metadata": {},
   "source": [
    "# 22. 可变位置参数*args的用法\n",
    "\n",
    "程序总是必须先把这些参数转化成一个元组，然后才能把它们当成可选的位置参数传给函数。这意味着，如果调用函数时，把带*操作符的生成器传了过去，那么程序必须先把这个生成器里的所有元素迭代完（以便形成元组），然后才能继续往下执行（相关知识，参见第30条）。这个元组包含生成器所给出的每个值，这可能耗费大量内存，甚至会让程序崩溃。\n",
    "\n",
    "*args参数的函数，适合处理输入值不太多，而且数量可以提前预估的情况"
   ]
  },
  {
   "cell_type": "code",
   "execution_count": 7,
   "id": "4e7508fb",
   "metadata": {},
   "outputs": [
    {
     "name": "stdout",
     "output_type": "stream",
     "text": [
      "(0, 1, 2, 3, 4, 5, 6, 7, 8, 9)\n"
     ]
    }
   ],
   "source": [
    "def tmp_generator():\n",
    "    for i in range(10):\n",
    "        yield i\n",
    "\n",
    "def my_func(*args):\n",
    "    print(args)\n",
    "\n",
    "it = tmp_generator()\n",
    "my_func(*it) #输出是元组3\n",
    "'''\n",
    "*操作符会让Python把序列中的元素都当成位置参数传给这个函数\n",
    "'''"
   ]
  },
  {
   "cell_type": "markdown",
   "id": "a2f9fa84",
   "metadata": {},
   "source": [
    "# 25. 只能以关键字指定和只能以位置参数指定\n",
    "\n",
    "/符号左边的参数只能以位置参数指定，*符号右边的参数，只能以关键字参数指定，/和*之间的参数，二者都可以，这也是函数默认参数的规则，参考下面的例子"
   ]
  },
  {
   "cell_type": "code",
   "execution_count": 9,
   "id": "fd3fe25e",
   "metadata": {},
   "outputs": [],
   "source": [
    "def safe_division(number,divisor,/,*,ignore_overflow=False,ignore_zero_division=True):\n",
    "    try:\n",
    "        return number/divisor\n",
    "    except OverflowError:\n",
    "        if ignore_overflow:\n",
    "            print(\"ignore overflowerror\")\n",
    "            return 0\n",
    "        else:\n",
    "            raise\n",
    "    except ZeroDivisionError:\n",
    "        if ignore_zero_division:\n",
    "            return float('inf')\n",
    "        else:\n",
    "            raise"
   ]
  },
  {
   "cell_type": "code",
   "execution_count": 12,
   "id": "320adc50",
   "metadata": {},
   "outputs": [
    {
     "data": {
      "text/plain": [
       "0.5"
      ]
     },
     "execution_count": 12,
     "metadata": {},
     "output_type": "execute_result"
    }
   ],
   "source": [
    "safe_division(1,2,ignore_overflow=True,ignore_zero_division=False)"
   ]
  },
  {
   "cell_type": "markdown",
   "id": "45b7ca5c",
   "metadata": {},
   "source": [
    "# 26. 用functools.wraps定义函数修饰器"
   ]
  },
  {
   "cell_type": "code",
   "execution_count": 13,
   "id": "c813efce",
   "metadata": {},
   "outputs": [
    {
     "name": "stdout",
     "output_type": "stream",
     "text": [
      "fibonacci((1,),{})\n",
      "fibonacci((0,),{})\n",
      "fibonacci((2,),{})\n",
      "fibonacci((1,),{})\n",
      "fibonacci((3,),{})\n",
      "fibonacci((1,),{})\n",
      "fibonacci((0,),{})\n",
      "fibonacci((2,),{})\n",
      "fibonacci((4,),{})\n",
      "fibonacci((1,),{})\n",
      "fibonacci((0,),{})\n",
      "fibonacci((2,),{})\n",
      "fibonacci((1,),{})\n",
      "fibonacci((3,),{})\n",
      "fibonacci((5,),{})\n",
      "fibonacci((1,),{})\n",
      "fibonacci((0,),{})\n",
      "fibonacci((2,),{})\n",
      "fibonacci((1,),{})\n",
      "fibonacci((3,),{})\n",
      "fibonacci((1,),{})\n",
      "fibonacci((0,),{})\n",
      "fibonacci((2,),{})\n",
      "fibonacci((4,),{})\n",
      "fibonacci((6,),{})\n",
      "fibonacci((1,),{})\n",
      "fibonacci((0,),{})\n",
      "fibonacci((2,),{})\n",
      "fibonacci((1,),{})\n",
      "fibonacci((3,),{})\n",
      "fibonacci((1,),{})\n",
      "fibonacci((0,),{})\n",
      "fibonacci((2,),{})\n",
      "fibonacci((4,),{})\n",
      "fibonacci((1,),{})\n",
      "fibonacci((0,),{})\n",
      "fibonacci((2,),{})\n",
      "fibonacci((1,),{})\n",
      "fibonacci((3,),{})\n",
      "fibonacci((5,),{})\n",
      "fibonacci((7,),{})\n",
      "fibonacci((1,),{})\n",
      "fibonacci((0,),{})\n",
      "fibonacci((2,),{})\n",
      "fibonacci((1,),{})\n",
      "fibonacci((3,),{})\n",
      "fibonacci((1,),{})\n",
      "fibonacci((0,),{})\n",
      "fibonacci((2,),{})\n",
      "fibonacci((4,),{})\n",
      "fibonacci((1,),{})\n",
      "fibonacci((0,),{})\n",
      "fibonacci((2,),{})\n",
      "fibonacci((1,),{})\n",
      "fibonacci((3,),{})\n",
      "fibonacci((5,),{})\n",
      "fibonacci((1,),{})\n",
      "fibonacci((0,),{})\n",
      "fibonacci((2,),{})\n",
      "fibonacci((1,),{})\n",
      "fibonacci((3,),{})\n",
      "fibonacci((1,),{})\n",
      "fibonacci((0,),{})\n",
      "fibonacci((2,),{})\n",
      "fibonacci((4,),{})\n",
      "fibonacci((6,),{})\n",
      "fibonacci((8,),{})\n",
      "fibonacci((1,),{})\n",
      "fibonacci((0,),{})\n",
      "fibonacci((2,),{})\n",
      "fibonacci((1,),{})\n",
      "fibonacci((3,),{})\n",
      "fibonacci((1,),{})\n",
      "fibonacci((0,),{})\n",
      "fibonacci((2,),{})\n",
      "fibonacci((4,),{})\n",
      "fibonacci((1,),{})\n",
      "fibonacci((0,),{})\n",
      "fibonacci((2,),{})\n",
      "fibonacci((1,),{})\n",
      "fibonacci((3,),{})\n",
      "fibonacci((5,),{})\n",
      "fibonacci((1,),{})\n",
      "fibonacci((0,),{})\n",
      "fibonacci((2,),{})\n",
      "fibonacci((1,),{})\n",
      "fibonacci((3,),{})\n",
      "fibonacci((1,),{})\n",
      "fibonacci((0,),{})\n",
      "fibonacci((2,),{})\n",
      "fibonacci((4,),{})\n",
      "fibonacci((6,),{})\n",
      "fibonacci((1,),{})\n",
      "fibonacci((0,),{})\n",
      "fibonacci((2,),{})\n",
      "fibonacci((1,),{})\n",
      "fibonacci((3,),{})\n",
      "fibonacci((1,),{})\n",
      "fibonacci((0,),{})\n",
      "fibonacci((2,),{})\n",
      "fibonacci((4,),{})\n",
      "fibonacci((1,),{})\n",
      "fibonacci((0,),{})\n",
      "fibonacci((2,),{})\n",
      "fibonacci((1,),{})\n",
      "fibonacci((3,),{})\n",
      "fibonacci((5,),{})\n",
      "fibonacci((7,),{})\n",
      "fibonacci((9,),{})\n",
      "fibonacci((1,),{})\n",
      "fibonacci((0,),{})\n",
      "fibonacci((2,),{})\n",
      "fibonacci((1,),{})\n",
      "fibonacci((3,),{})\n",
      "fibonacci((1,),{})\n",
      "fibonacci((0,),{})\n",
      "fibonacci((2,),{})\n",
      "fibonacci((4,),{})\n",
      "fibonacci((1,),{})\n",
      "fibonacci((0,),{})\n",
      "fibonacci((2,),{})\n",
      "fibonacci((1,),{})\n",
      "fibonacci((3,),{})\n",
      "fibonacci((5,),{})\n",
      "fibonacci((1,),{})\n",
      "fibonacci((0,),{})\n",
      "fibonacci((2,),{})\n",
      "fibonacci((1,),{})\n",
      "fibonacci((3,),{})\n",
      "fibonacci((1,),{})\n",
      "fibonacci((0,),{})\n",
      "fibonacci((2,),{})\n",
      "fibonacci((4,),{})\n",
      "fibonacci((6,),{})\n",
      "fibonacci((1,),{})\n",
      "fibonacci((0,),{})\n",
      "fibonacci((2,),{})\n",
      "fibonacci((1,),{})\n",
      "fibonacci((3,),{})\n",
      "fibonacci((1,),{})\n",
      "fibonacci((0,),{})\n",
      "fibonacci((2,),{})\n",
      "fibonacci((4,),{})\n",
      "fibonacci((1,),{})\n",
      "fibonacci((0,),{})\n",
      "fibonacci((2,),{})\n",
      "fibonacci((1,),{})\n",
      "fibonacci((3,),{})\n",
      "fibonacci((5,),{})\n",
      "fibonacci((7,),{})\n",
      "fibonacci((1,),{})\n",
      "fibonacci((0,),{})\n",
      "fibonacci((2,),{})\n",
      "fibonacci((1,),{})\n",
      "fibonacci((3,),{})\n",
      "fibonacci((1,),{})\n",
      "fibonacci((0,),{})\n",
      "fibonacci((2,),{})\n",
      "fibonacci((4,),{})\n",
      "fibonacci((1,),{})\n",
      "fibonacci((0,),{})\n",
      "fibonacci((2,),{})\n",
      "fibonacci((1,),{})\n",
      "fibonacci((3,),{})\n",
      "fibonacci((5,),{})\n",
      "fibonacci((1,),{})\n",
      "fibonacci((0,),{})\n",
      "fibonacci((2,),{})\n",
      "fibonacci((1,),{})\n",
      "fibonacci((3,),{})\n",
      "fibonacci((1,),{})\n",
      "fibonacci((0,),{})\n",
      "fibonacci((2,),{})\n",
      "fibonacci((4,),{})\n",
      "fibonacci((6,),{})\n",
      "fibonacci((8,),{})\n",
      "fibonacci((10,),{})\n"
     ]
    },
    {
     "data": {
      "text/plain": [
       "89"
      ]
     },
     "execution_count": 13,
     "metadata": {},
     "output_type": "execute_result"
    }
   ],
   "source": [
    "from functools import wraps\n",
    "\n",
    "# 定义一个修饰器，并且用functools.wraps来保存内层函数的元信息到外面\n",
    "def trace(func):\n",
    "    @wraps(func)\n",
    "    def wrapper(*args,**kwargs):\n",
    "        result = func(*args,**kwargs)\n",
    "        print(f'{func.__name__}({args!r},{kwargs!r})')\n",
    "        return result\n",
    "    return wrapper\n",
    "\n",
    "@trace\n",
    "def fibonacci(n):\n",
    "    if n in (0,1):\n",
    "        return 1\n",
    "    return fibonacci(n-1)+fibonacci(n-2)\n",
    "\n",
    "fibonacci(10)"
   ]
  },
  {
   "cell_type": "code",
   "execution_count": null,
   "id": "f2757f81",
   "metadata": {},
   "outputs": [],
   "source": []
  }
 ],
 "metadata": {
  "kernelspec": {
   "display_name": "Python 3 (ipykernel)",
   "language": "python",
   "name": "python3"
  },
  "language_info": {
   "codemirror_mode": {
    "name": "ipython",
    "version": 3
   },
   "file_extension": ".py",
   "mimetype": "text/x-python",
   "name": "python",
   "nbconvert_exporter": "python",
   "pygments_lexer": "ipython3",
   "version": "3.9.5"
  }
 },
 "nbformat": 4,
 "nbformat_minor": 5
}
