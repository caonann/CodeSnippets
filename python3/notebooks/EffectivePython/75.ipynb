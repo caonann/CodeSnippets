{
 "cells": [
  {
   "cell_type": "markdown",
   "id": "36d03343",
   "metadata": {},
   "source": [
    "# 通过repr字符串输出调试信息"
   ]
  },
  {
   "cell_type": "code",
   "execution_count": null,
   "id": "dca20861",
   "metadata": {},
   "outputs": [],
   "source": [
    "myval = '12345'\n",
    "print(str(myval))\n",
    "print(\"%s\"%myval)\n",
    "print(f\"{myval}\")\n",
    "print(format(myval))\n",
    "print(myval.__str__())\n",
    "print(myval.__format__('s'))"
   ]
  },
  {
   "cell_type": "markdown",
   "id": "edc939fa",
   "metadata": {},
   "source": [
    "以上打印方式有一个问题，就是不能区别到底是数字还是字符串类型,下面代码输出看不出任何区别"
   ]
  },
  {
   "cell_type": "code",
   "execution_count": null,
   "id": "e2f859a6",
   "metadata": {},
   "outputs": [],
   "source": [
    "ival = 5\n",
    "sval = '5'\n",
    "print(f\"{ival} == {sval} ?\")"
   ]
  },
  {
   "cell_type": "markdown",
   "id": "bbc03b8f",
   "metadata": {},
   "source": [
    "内置的repr函数可以返回对象的可打印表示形式,还有%r格式也可解决此问题"
   ]
  },
  {
   "cell_type": "code",
   "execution_count": null,
   "id": "90c1b487",
   "metadata": {},
   "outputs": [],
   "source": [
    "print(f\"{repr(ival)} == {repr(sval)} ?\")\n",
    "print(f\"{ival!r} == {sval!r} ?\")\n",
    "print(\"%r == %r ?\"%(ival,sval))"
   ]
  },
  {
   "cell_type": "markdown",
   "id": "cd4c348d",
   "metadata": {},
   "source": [
    "非内置类型，print默认打印就是repr值，但问题是object子类的repr默认实现不太好用，输出是对象地址，无法帮助我们观察信息，下面有两种方式解决这种问题"
   ]
  },
  {
   "cell_type": "code",
   "execution_count": 5,
   "id": "73b78353",
   "metadata": {},
   "outputs": [
    {
     "name": "stdout",
     "output_type": "stream",
     "text": [
      "BetterClass(2,'bar')\n"
     ]
    }
   ],
   "source": [
    "class BetterClass:\n",
    "    def __init__(self,x,y):\n",
    "        self.x = x\n",
    "        self.y = y\n",
    "    def __repr__(self):\n",
    "        return f\"BetterClass({self.x!r},{self.y!r})\"\n",
    "obj = BetterClass(2,\"bar\")\n",
    "print(obj)"
   ]
  },
  {
   "cell_type": "code",
   "execution_count": 6,
   "id": "80d346ab",
   "metadata": {},
   "outputs": [
    {
     "name": "stdout",
     "output_type": "stream",
     "text": [
      "{'x': 3, 'y': 'barbar'}\n"
     ]
    }
   ],
   "source": [
    "class BetterClass2:\n",
    "    def __init__(self,x,y):\n",
    "        self.x = x\n",
    "        self.y = y\n",
    "obj = BetterClass2(3,\"barbar\")\n",
    "print(obj.__dict__)"
   ]
  },
  {
   "cell_type": "markdown",
   "id": "5f2de79e",
   "metadata": {},
   "source": [
    "把内置类型的值传给print，会打印出便于认读的那种字符串，但是其中不会包含类型信息。\n",
    "把内置类型的值传给repr，会得到一个能够表示该值的可打印字符串，将这个repr字符串传给内置的eval函数能够得到原值。\n",
    "在格式化字符串里用%s处理相关的值，就跟把这个值传给str函数一样，都能得到一个便于认读的那种字符串。\n",
    "如果用%r来处理，那么得到的就是repr字符串。\n",
    "在f-string中，也可以用值来取代其中有待替换的那一部分，并产生便于认读的那种字符串，但如果待替换的部分加了!r后缀，那么替换出来的就是repr字符串。\n",
    "给类定义__repr__特殊方法，可以让print函数把该类实例的可打印表现形式展现出来，在实现这个方法时，还可以提供更为详尽的调试信息。"
   ]
  }
 ],
 "metadata": {
  "kernelspec": {
   "display_name": "Python 3 (ipykernel)",
   "language": "python",
   "name": "python3"
  },
  "language_info": {
   "codemirror_mode": {
    "name": "ipython",
    "version": 3
   },
   "file_extension": ".py",
   "mimetype": "text/x-python",
   "name": "python",
   "nbconvert_exporter": "python",
   "pygments_lexer": "ipython3",
   "version": "3.9.5"
  }
 },
 "nbformat": 4,
 "nbformat_minor": 5
}
