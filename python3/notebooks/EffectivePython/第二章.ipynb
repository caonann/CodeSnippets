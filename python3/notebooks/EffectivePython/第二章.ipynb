{
 "cells": [
  {
   "cell_type": "markdown",
   "id": "1e80c778",
   "metadata": {},
   "source": [
    "# 11. 对序列做切片\n",
    "\n",
    "获取原序列的某个子集合，本质上是实现了__getitem__与__setitem__两个特殊方法的类都可以做切割\n",
    "基本用法是 somelist[start:end:step] 通常省略步进则步进为1，切割出来的列表是新列表，不会影响旧列表，可以用这个特性做列表的拷贝"
   ]
  },
  {
   "cell_type": "code",
   "execution_count": 11,
   "id": "e3064e24",
   "metadata": {},
   "outputs": [
    {
     "name": "stdout",
     "output_type": "stream",
     "text": [
      "this list is ['a', 'b', 'c', 'd', 'e', 'f', 'g']\n",
      "middle two ['d', 'e']\n",
      "from begin ['a', 'b', 'c', 'd', 'e']\n",
      "all ['a', 'b', 'c', 'd', 'e', 'f', 'g']\n",
      "last two element ['f', 'g'],from begin to last one ['a', 'b', 'c', 'd', 'e', 'f']\n",
      "the list element no more than ['a', 'b', 'c', 'd', 'e', 'f', 'g']\n"
     ]
    }
   ],
   "source": [
    "a = list('abcdefg')\n",
    "print(f'this list is {a}')\n",
    "print(f'middle two {a[3:5]}')\n",
    "print(f'from begin {a[:5]}')\n",
    "print(f'all {a[:]}')\n",
    "# 用负数做小标表示从列表末尾往前算\n",
    "print(f'last two element {a[-2:]},from begin to last one {a[:-1]}')\n",
    "# 如果起点或终点超出了列表的边界，则会忽略不存在的元素，利用这个特性，很容易构造出最多只有多少个元素\n",
    "print(f'the list element no more than {a[-20:20]}')\n",
    "# 注意，当出现下标-0的时候，等效于0"
   ]
  },
  {
   "cell_type": "code",
   "execution_count": 3,
   "id": "70281dd8",
   "metadata": {},
   "outputs": [
    {
     "name": "stdout",
     "output_type": "stream",
     "text": [
      "[2, 3]\n",
      "[]\n",
      "[9]\n"
     ]
    }
   ],
   "source": [
    "test_list = [1,2,3,4,5,6,7,8,9]\n",
    "# 测试切分列表的时候越界的情况\n",
    "limit = 2\n",
    "print(test_list[1:1+limit])\n",
    "print(test_list[11:11+limit])\n",
    "print(test_list[8:8+limit])"
   ]
  },
  {
   "cell_type": "markdown",
   "id": "7ea77e12",
   "metadata": {},
   "source": [
    "切片可以出现在赋值符号的左侧，表示用右侧那些元素把原列表中位于这个范围之内的元素换掉，与unpacking形式的赋值不同，这种赋值不要求等号两边所指定的元素个数必须相同。"
   ]
  },
  {
   "cell_type": "code",
   "execution_count": 13,
   "id": "9ea07d1c",
   "metadata": {},
   "outputs": [
    {
     "name": "stdout",
     "output_type": "stream",
     "text": [
      "before a is ['a', 'b', 'c', 'd', 'e', 'f', 'g']\n",
      "after a is ['a', 'b', 1, 2, 3, 4, 5, 'f', 'g']\n"
     ]
    }
   ],
   "source": [
    "print(f'before a is {a}')\n",
    "a[2:5] = [1,2,3,4,5]\n",
    "print(f'after a is {a}')"
   ]
  },
  {
   "cell_type": "markdown",
   "id": "aed476b4",
   "metadata": {},
   "source": [
    "起止位置都留空的切片，如果出现在赋值符号右侧，那么表示给这个列表做副本，这样制作出来的新列表内容和原列表相同，但身份不同"
   ]
  },
  {
   "cell_type": "code",
   "execution_count": 14,
   "id": "814a5cba",
   "metadata": {},
   "outputs": [],
   "source": [
    "b = a[:]\n",
    "assert b == a and b is not a"
   ]
  },
  {
   "cell_type": "markdown",
   "id": "fafc701e",
   "metadata": {},
   "source": [
    "# 12. 不要在切片里同时指定起止下标和步进\n",
    "\n",
    "同时写在一起，会让切片很难理解"
   ]
  },
  {
   "cell_type": "code",
   "execution_count": 18,
   "id": "e54ef286",
   "metadata": {},
   "outputs": [
    {
     "name": "stdout",
     "output_type": "stream",
     "text": [
      "dcba\n",
      "用使的片切\n",
      "error\n"
     ]
    }
   ],
   "source": [
    "# 步进设置为-1可以起到反转的作用，但是字符串编码成utf-8标准字节数据，就不能使用这种反转技巧\n",
    "x = 'abcd'\n",
    "print(x[::-1])\n",
    "x = '切片的使用'\n",
    "print(x[::-1])\n",
    "try:\n",
    "    _ = x.encode('utf-8')\n",
    "    _ = _[::-1]\n",
    "    y = _.decode('utf-8')\n",
    "except:\n",
    "    print('error')"
   ]
  },
  {
   "cell_type": "markdown",
   "id": "1fd23307",
   "metadata": {},
   "source": [
    "# 13. 用*号捕获unpacking多个元素，不要用切片\n",
    "\n",
    "带星号的这部分总是会形成一份列表，所以要注意，这有可能耗尽计算机的全部内存并导致程序崩溃"
   ]
  },
  {
   "cell_type": "code",
   "execution_count": 27,
   "id": "93d426e6",
   "metadata": {},
   "outputs": [
    {
     "name": "stdout",
     "output_type": "stream",
     "text": [
      "first='a',second='b',others=['c', 'd', 'e', 'f', 'g']\n"
     ]
    }
   ],
   "source": [
    "a = list('abcdefg')\n",
    "first,second,*others =  a\n",
    "print(f'{first=},{second=},{others=}')"
   ]
  },
  {
   "cell_type": "markdown",
   "id": "cf91665b",
   "metadata": {},
   "source": [
    "# 14. 用sort方法的key参数来表示复杂的排序逻辑"
   ]
  },
  {
   "cell_type": "code",
   "execution_count": 41,
   "id": "4a2ca26f",
   "metadata": {},
   "outputs": [
    {
     "name": "stdout",
     "output_type": "stream",
     "text": [
      "[2, 3, 3.4, 5.3, 6, 12, 13, 45]\n"
     ]
    }
   ],
   "source": [
    "numbers = [12,3,45,2,13,5.3,6,3.4]\n",
    "numbers.sort()\n",
    "print(numbers)\n",
    "\n",
    "# 如果是复杂对象构成的列表，如何排序？\n",
    "\n",
    "class Tool:\n",
    "    def __init__(self,name,weight):\n",
    "        self.name = name\n",
    "        self.weight = weight\n",
    "    \n",
    "    def __repr__(self):\n",
    "        return f'Tool({self.name=},{self.weight=})'\n",
    "\n",
    "tools = [\n",
    "    Tool('level',3.5),\n",
    "    Tool('hammer',1.25),\n",
    "    Tool('tom',0.2),\n",
    "    Tool('chisel',0.8),\n",
    "]\n",
    "\n",
    "# tools.sort() 直接这么排序会报错"
   ]
  },
  {
   "cell_type": "markdown",
   "id": "ed00b582",
   "metadata": {},
   "source": [
    "可以给对象定义特殊方法实现排序，但更为常见的情况是，很多对象需要在不同的情况下按照不同的标准排序，此时定义自然排序实际上没有意义。可以把这样的排序逻辑定义成函数，然后将这个函数传给sort方法的key参数"
   ]
  },
  {
   "cell_type": "code",
   "execution_count": 32,
   "id": "21e3eca5",
   "metadata": {},
   "outputs": [
    {
     "name": "stdout",
     "output_type": "stream",
     "text": [
      "Unsorted: tools=[Tool(self.name='level',self.weight=3.5), Tool(self.name='hammer',self.weight=1.25), Tool(self.name='tom',self.weight=0.2), Tool(self.name='chisel',self.weight=0.8)]\n",
      "Sorted: tools=[Tool(self.name='chisel',self.weight=0.8), Tool(self.name='hammer',self.weight=1.25), Tool(self.name='level',self.weight=3.5), Tool(self.name='tom',self.weight=0.2)]\n"
     ]
    }
   ],
   "source": [
    "print(f'Unsorted: {tools=!r}')\n",
    "tools.sort(key= lambda x: x.name)\n",
    "print(f'Sorted: {tools=!r}')"
   ]
  },
  {
   "cell_type": "markdown",
   "id": "36ab5f6a",
   "metadata": {},
   "source": [
    "### 如何实现按照多个标准来排序？\n",
    "最简单的方案是利用元组（tuple）类型实现。元组是一种不可变的序列，能够存放任意的Python值。两个元组之间是可以比较的，因为这种类型本身已经定义了自然顺序，也就是说，sort方法所要求的特殊方法（例如__lt__方法），它都已经定义好了。元组在实现这些特殊方法时会依次比较每个位置的那两个对应元素，直到能够确定大小为止"
   ]
  },
  {
   "cell_type": "code",
   "execution_count": 35,
   "id": "860d6d21",
   "metadata": {},
   "outputs": [],
   "source": [
    "a = (5,'c')\n",
    "b = (6,'b')\n",
    "assert a < b # 满足第一个\n",
    "\n",
    "a = (5,'c')\n",
    "b = (5,'b')\n",
    "assert a > b"
   ]
  },
  {
   "cell_type": "code",
   "execution_count": 39,
   "id": "53406fea",
   "metadata": {},
   "outputs": [
    {
     "name": "stdout",
     "output_type": "stream",
     "text": [
      "[Tool(self.name='tom',self.weight=0.2), Tool(self.name='chisel',self.weight=0.8), Tool(self.name='hammer',self.weight=1.25), Tool(self.name='level',self.weight=3.5)]\n",
      "[Tool(self.name='level',self.weight=3.5), Tool(self.name='hammer',self.weight=1.25), Tool(self.name='chisel',self.weight=0.8), Tool(self.name='tom',self.weight=0.2)]\n"
     ]
    }
   ],
   "source": [
    "# 利用元组的这项特性，我们可以用工具的weight与name构造一个元组\n",
    "tools.sort(key=lambda x:(x.weight,x.name))\n",
    "print(tools)\n",
    "# 降序排列\n",
    "tools.sort(key=lambda x:(x.weight,x.name),reverse=True)\n",
    "print(tools)"
   ]
  },
  {
   "cell_type": "markdown",
   "id": "d7c8f716",
   "metadata": {},
   "source": [
    "但是这样使用元组有一个问题，就是多重标准只能同升同降低,如果属性是支持取反的，可以直接在前面加个负号，如果不支持取反，就需要多次排序，因为sort是稳定排序"
   ]
  },
  {
   "cell_type": "code",
   "execution_count": 40,
   "id": "c1d6ca8a",
   "metadata": {},
   "outputs": [
    {
     "name": "stdout",
     "output_type": "stream",
     "text": [
      "[Tool(self.name='level',self.weight=3.5), Tool(self.name='hammer',self.weight=1.25), Tool(self.name='chisel',self.weight=0.8), Tool(self.name='tom',self.weight=0.2)]\n"
     ]
    }
   ],
   "source": [
    "tools.sort(key=lambda x:(-x.weight,x.name)) # weight降序，name升序\n",
    "print(tools)"
   ]
  },
  {
   "cell_type": "markdown",
   "id": "e838c5fa",
   "metadata": {},
   "source": [
    "# 15. 不要过分依赖字典添加条目时所用的顺序\n",
    "\n",
    "python3.5以后，标准字典（dict)的插入顺序和运行时的读取顺序已经保证一致了，但是要注意那种自定义的和标准字典很像但不是dict实例的对象。"
   ]
  },
  {
   "cell_type": "code",
   "execution_count": 43,
   "id": "649685a1",
   "metadata": {},
   "outputs": [
    {
     "name": "stdout",
     "output_type": "stream",
     "text": [
      "dict_keys(['a_key', 'b_key', 'c_key'])\n",
      "dict_values(['a_item', 'b_item', 'c_item'])\n",
      "dict_items([('a_key', 'a_item'), ('b_key', 'b_item'), ('c_key', 'c_item')])\n",
      "{'a_key': 'a_item', 'b_key': 'b_item', 'c_key': 'c_item'}\n",
      "{'a_key': 'a_item', 'b_key': 'b_item', 'c_key': 'c_item'}\n",
      "{'a_key': 'a_item', 'b_key': 'b_item', 'c_key': 'c_item'}\n",
      "{'a_key': 'a_item', 'b_key': 'b_item', 'c_key': 'c_item'}\n",
      "{'a_key': 'a_item', 'b_key': 'b_item', 'c_key': 'c_item'}\n"
     ]
    }
   ],
   "source": [
    "dict_obj = {\n",
    "    'a_key':'a_item',\n",
    "    'b_key':'b_item',\n",
    "    'c_key':'c_item',\n",
    "}\n",
    "\n",
    "print(dict_obj.keys())\n",
    "print(dict_obj.values())\n",
    "print(dict_obj.items())\n",
    "for i in range(5):\n",
    "    print(dict_obj)"
   ]
  },
  {
   "cell_type": "code",
   "execution_count": 48,
   "id": "67f33632",
   "metadata": {},
   "outputs": [
    {
     "name": "stdout",
     "output_type": "stream",
     "text": [
      "index=0,key='name',value='tom'\n",
      "index=1,key='age',value='18'\n",
      "index=2,key='weight',value='180kg'\n"
     ]
    }
   ],
   "source": [
    "def my_func(**kwargs):\n",
    "    for index,(key,value) in enumerate(kwargs.items()):\n",
    "        print(f'{index=},{key=},{value=}')\n",
    "\n",
    "my_func(name='tom',age='18',weight='180kg')"
   ]
  },
  {
   "cell_type": "markdown",
   "id": "dfb011fc",
   "metadata": {},
   "source": [
    "# 17. 用defaultdict处理内部状态中缺失的元素，而不是setdefault\n",
    "如果你管理的字典可能需要添加任意的键，那么应该考虑能否用内置的collections模块中的defaultdict实例来解决问题,理由如下\n",
    "1.setdfault语义不是特别明确，对于不是特别熟悉python的，容易引起误导\n",
    "2.不够高效，每次调用setdefault都要额外构造设置的default实例"
   ]
  },
  {
   "cell_type": "code",
   "execution_count": 53,
   "id": "fc4e5013",
   "metadata": {},
   "outputs": [
    {
     "name": "stdout",
     "output_type": "stream",
     "text": [
      "{'a': {'b': 1, 'c': 2}, 'b': {'d': 3}, 'c': {}, 'e': {'f': 4}}\n"
     ]
    }
   ],
   "source": [
    "test_dict_17={\n",
    "    'a':{'b':1,'c':2},\n",
    "    'b':{'d':3},\n",
    "    'c':{},\n",
    "}\n",
    "\n",
    "# 参考下面的case，setdefault的作用机制是，先构造一个临时的dict对象，不管test_dict_17是否已经有‘e’这个key了，\n",
    "# 如果有，则直接返回内容，如果没有，返回刚创建的临时dict\n",
    "test_dict_17.setdefault('e',dict())['f']=4\n",
    "print(test_dict_17)"
   ]
  },
  {
   "cell_type": "code",
   "execution_count": 56,
   "id": "2a4690ae",
   "metadata": {},
   "outputs": [
    {
     "ename": "TypeError",
     "evalue": "first argument must be callable or None",
     "output_type": "error",
     "traceback": [
      "\u001b[0;31m---------------------------------------------------------------------------\u001b[0m",
      "\u001b[0;31mTypeError\u001b[0m                                 Traceback (most recent call last)",
      "\u001b[0;32m/tmp/ipykernel_17549/3254441889.py\u001b[0m in \u001b[0;36m<module>\u001b[0;34m\u001b[0m\n\u001b[1;32m      2\u001b[0m \u001b[0;31m# 每次发现键不存在时，该字典都会调用这个函数返回一份新的默认值（该函数不能有参数）\u001b[0m\u001b[0;34m\u001b[0m\u001b[0;34m\u001b[0m\u001b[0;34m\u001b[0m\u001b[0m\n\u001b[1;32m      3\u001b[0m \u001b[0;32mfrom\u001b[0m \u001b[0mcollections\u001b[0m \u001b[0;32mimport\u001b[0m \u001b[0mdefaultdict\u001b[0m\u001b[0;34m\u001b[0m\u001b[0;34m\u001b[0m\u001b[0m\n\u001b[0;32m----> 4\u001b[0;31m \u001b[0mdata\u001b[0m \u001b[0;34m=\u001b[0m \u001b[0mdefaultdict\u001b[0m\u001b[0;34m(\u001b[0m\u001b[0mset\u001b[0m\u001b[0;34m(\u001b[0m\u001b[0;34m)\u001b[0m\u001b[0;34m)\u001b[0m\u001b[0;34m\u001b[0m\u001b[0;34m\u001b[0m\u001b[0m\n\u001b[0m\u001b[1;32m      5\u001b[0m \u001b[0mdata\u001b[0m\u001b[0;34m[\u001b[0m\u001b[0;34m'abc'\u001b[0m\u001b[0;34m]\u001b[0m\u001b[0;34m.\u001b[0m\u001b[0madd\u001b[0m\u001b[0;34m(\u001b[0m\u001b[0;36m123\u001b[0m\u001b[0;34m)\u001b[0m\u001b[0;34m\u001b[0m\u001b[0;34m\u001b[0m\u001b[0m\n\u001b[1;32m      6\u001b[0m \u001b[0mdata\u001b[0m\u001b[0;34m[\u001b[0m\u001b[0;34m'abc'\u001b[0m\u001b[0;34m]\u001b[0m\u001b[0;34m.\u001b[0m\u001b[0madd\u001b[0m\u001b[0;34m(\u001b[0m\u001b[0;36m456\u001b[0m\u001b[0;34m)\u001b[0m\u001b[0;34m\u001b[0m\u001b[0;34m\u001b[0m\u001b[0m\n",
      "\u001b[0;31mTypeError\u001b[0m: first argument must be callable or None"
     ]
    }
   ],
   "source": [
    "# defaultdict会在键缺失情况下自动添加这个键以及对应的默认值，我们只需要在构造这种字典时提供一个函数就行了，\n",
    "# 每次发现键不存在时，该字典都会调用这个函数返回一份新的默认值（该函数不能有参数）\n",
    "from collections import defaultdict\n",
    "data = defaultdict(set)\n",
    "data['abc'].add(123)\n",
    "data['abc'].add(456)\n",
    "print(data)"
   ]
  },
  {
   "cell_type": "markdown",
   "id": "00b9b816",
   "metadata": {},
   "source": [
    "因为defaultdict构造是提供的函数不支持参数的问题，游戏特定问题还可以用内置函数__missing__解决,该方法主要解决字典中不存在这个键时，自定义执行逻辑"
   ]
  },
  {
   "cell_type": "code",
   "execution_count": 58,
   "id": "6dd0b491",
   "metadata": {},
   "outputs": [
    {
     "name": "stdout",
     "output_type": "stream",
     "text": [
      "123\n"
     ]
    }
   ],
   "source": [
    "class mydict(dict):\n",
    "    def __missing__(self,key):\n",
    "        value=123\n",
    "        self[key] = value\n",
    "        return value\n",
    "\n",
    "o = mydict()\n",
    "value = o['abc']\n",
    "print(value)"
   ]
  },
  {
   "cell_type": "markdown",
   "id": "700f5727",
   "metadata": {},
   "source": [
    "# 问题总结"
   ]
  },
  {
   "cell_type": "markdown",
   "id": "ee5f3132",
   "metadata": {},
   "source": [
    "1. python的切片赋值是深拷贝还是浅拷贝？做个实验\n",
    "实际上，切片拷贝属于浅拷贝，深拷贝需要x.deepcopy()"
   ]
  },
  {
   "cell_type": "code",
   "execution_count": 1,
   "id": "d3af9960",
   "metadata": {},
   "outputs": [
    {
     "name": "stdout",
     "output_type": "stream",
     "text": [
      "a=['0', '1', '2', '3', '4', '5', '6', '7', '8', '9'],b=['a', '3', '4']\n",
      "b=['a', '3', 'b', 'c', 'd', '4']\n",
      "c=['0', 'bb', '2', '3', '4', '5', '6', '7', '8', '9'],a=['0', '1', '2', '3', '4', '5', '6', '7', '8', '9']\n",
      "aa=['a', 'b', [1, 'd']],bb=['a', 'b', [1, 'd']]\n"
     ]
    }
   ],
   "source": [
    "a = list('0123456789')\n",
    "b = a[2:5]\n",
    "b[0]='a'\n",
    "print(f'{a=},{b=}')\n",
    "b[-1:-1] = ['b','c','d']\n",
    "print(f'{b=}')\n",
    "# b改变了，但是a并没有改变，所以是深拷贝？\n",
    "\n",
    "c = a[:]\n",
    "assert c is not a\n",
    "assert c == a \n",
    "assert c[1] is a[1]\n",
    "c[1] = 'bb'\n",
    "assert c is not a\n",
    "assert c != a\n",
    "print(f'{c=},{a=}')\n",
    "\n",
    "aa = ['a','b',['c','d']]\n",
    "bb = aa[:]\n",
    "bb[2][0]=1\n",
    "print(f'{aa=},{bb=}')"
   ]
  },
  {
   "cell_type": "code",
   "execution_count": null,
   "id": "0f98b410",
   "metadata": {},
   "outputs": [],
   "source": []
  }
 ],
 "metadata": {
  "kernelspec": {
   "display_name": "Python 3 (ipykernel)",
   "language": "python",
   "name": "python3"
  },
  "language_info": {
   "codemirror_mode": {
    "name": "ipython",
    "version": 3
   },
   "file_extension": ".py",
   "mimetype": "text/x-python",
   "name": "python",
   "nbconvert_exporter": "python",
   "pygments_lexer": "ipython3",
   "version": "3.10.13"
  },
  "vscode": {
   "interpreter": {
    "hash": "2f394aca7ca06fed1e6064aef884364492d7cdda3614a461e02e6407fc40ba69"
   }
  }
 },
 "nbformat": 4,
 "nbformat_minor": 5
}
