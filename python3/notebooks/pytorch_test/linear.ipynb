{
 "cells": [
  {
   "cell_type": "markdown",
   "id": "8888290d-bb2a-40d3-9107-ef91e5f00c82",
   "metadata": {},
   "source": [
    "在PyTorch框架中，`nn.Linear` 是一个预定义的模块，用于创建一个全连接层（也称为线性层或密集层）。这个层基本上实现了一个线性变换，它将输入数据与层的权重矩阵相乘，并可选择性地加上一个偏置项，其数学表示为：\n",
    "\n",
    "$$\n",
    "y = xA^T + b\n",
    "$$\n",
    "\n",
    "其中：\n",
    "- $x$ 是输入数据。\n",
    "- $A$ 是层的权重矩阵。\n",
    "- $b$ 是偏置向量（如果使用的话）。\n",
    "- $y$ 是层的输出。\n",
    "\n",
    "在深度学习模型中，全连接层通常用于从前一层提取的特征中学习非线性组合或者执行分类、回归等任务。`nn.Linear` 需要指定输入特征的数量和输出特征的数量作为参数。可选地，可以指定是否使用偏置。\n",
    "\n",
    "下面的例子中，`in_features=10` 表示每个输入样本有10个特征，`out_features=5` 表示全连接层将这些特征转换成5个输出特征。`bias=True` 表示在变换中使用偏置项。\n",
    "\n",
    "`nn.Linear` 层在训练过程中会学习权重和偏置的最佳值，以便在给定任务（例如分类、回归等）上实现最佳性能。这个学习过程通过反向传播和梯度下降算法实现。"
   ]
  },
  {
   "cell_type": "code",
   "execution_count": 4,
   "id": "e3935d5b-4131-4351-8630-e49a8a7a778a",
   "metadata": {},
   "outputs": [],
   "source": [
    "import torch\n",
    "import torch.nn as nn\n",
    "\n",
    "# 创建一个全连接层，输入特征数量为 10，输出特征数量为 5\n",
    "linear_layer = nn.Linear(in_features=10, out_features=5, bias=True)\n",
    "\n",
    "# 创建一个输入张量，假设有一个批次大小为 3 的输入\n",
    "input_tensor = torch.randn(3, 10)\n",
    "\n",
    "# 通过全连接层得到输出\n",
    "output_tensor = linear_layer(input_tensor)\n"
   ]
  },
  {
   "cell_type": "code",
   "execution_count": 3,
   "id": "b5e33783-3fa1-422d-b42a-a67276b2f05b",
   "metadata": {},
   "outputs": [
    {
     "data": {
      "text/plain": [
       "tensor([[ 0.3684, -0.2781,  0.6003,  0.4120,  0.3944],\n",
       "        [-0.5608, -0.7029,  0.6110,  0.4440,  0.4061],\n",
       "        [ 0.3606, -0.8574,  0.4301,  0.0547, -0.8152]],\n",
       "       grad_fn=<AddmmBackward0>)"
      ]
     },
     "execution_count": 3,
     "metadata": {},
     "output_type": "execute_result"
    }
   ],
   "source": [
    "output_tensor"
   ]
  },
  {
   "cell_type": "code",
   "execution_count": null,
   "id": "826a352c-3bd6-4af9-a557-a5dda3c478cf",
   "metadata": {},
   "outputs": [],
   "source": []
  }
 ],
 "metadata": {
  "kernelspec": {
   "display_name": "Python 3 (ipykernel)",
   "language": "python",
   "name": "python3"
  },
  "language_info": {
   "codemirror_mode": {
    "name": "ipython",
    "version": 3
   },
   "file_extension": ".py",
   "mimetype": "text/x-python",
   "name": "python",
   "nbconvert_exporter": "python",
   "pygments_lexer": "ipython3",
   "version": "3.10.13"
  }
 },
 "nbformat": 4,
 "nbformat_minor": 5
}
