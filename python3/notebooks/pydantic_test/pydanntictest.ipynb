{
 "cells": [
  {
   "cell_type": "code",
   "execution_count": 1,
   "id": "7cab72fc-2a7d-4ce1-bf77-ab4b190d84c7",
   "metadata": {},
   "outputs": [
    {
     "name": "stdout",
     "output_type": "stream",
     "text": [
      "\u001b[33mWARNING: Running pip as the 'root' user can result in broken permissions and conflicting behaviour with the system package manager. It is recommended to use a virtual environment instead: https://pip.pypa.io/warnings/venv\u001b[0m\u001b[33m\n",
      "\u001b[0m"
     ]
    }
   ],
   "source": [
    "!pip install pydantic>2.0"
   ]
  },
  {
   "cell_type": "code",
   "execution_count": 6,
   "id": "c105be1c-ec58-42e6-a0ff-ee43d428f909",
   "metadata": {},
   "outputs": [],
   "source": [
    "import pydantic\n",
    "from pydantic import BaseModel, Field\n",
    "from typing import AsyncGenerator, Dict, List, Optional, Tuple, Union"
   ]
  },
  {
   "cell_type": "code",
   "execution_count": 7,
   "id": "4e6b8298-a24a-4483-b8ea-afe04335b0e0",
   "metadata": {},
   "outputs": [],
   "source": [
    "class CompletionRequest(BaseModel):\n",
    "    request_id: Optional[str] = None\n",
    "    prompt: str\n",
    "    system_info: str = \"\"  # 临时字段，后面用chat接口替代\n",
    "    history_input: List = []  # 临时字段，后面用chat接口替代\n",
    "    history_output: List = []  # 临时字段，后面用chat接口替代\n",
    "    max_tokens: Optional[int] = 512\n",
    "    temperature: Optional[float] = 0.9\n",
    "    top_p: Optional[float] = 0.85\n",
    "    n: Optional[int] = 1\n",
    "    stream: Optional[bool] = False\n",
    "    logprobs: Optional[int] = None\n",
    "    echo: Optional[bool] = False\n",
    "    stop: Optional[Union[str, List[str]]] = Field(default_factory=list)\n",
    "    presence_penalty: Optional[float] = 0.0\n",
    "    frequency_penalty: Optional[float] = 0.0\n",
    "    best_of: Optional[int] = None\n",
    "    logit_bias: Optional[Dict[str, float]] = None\n",
    "    user: Optional[str] = None\n",
    "    # Additional parameters supported by vLLM\n",
    "    top_k: Optional[int] = 40\n",
    "    ignore_eos: Optional[bool] = False\n",
    "    use_beam_search: Optional[bool] = False\n",
    "    stop_token_ids: Optional[List[int]] = Field(default_factory=list)\n",
    "    skip_special_tokens: Optional[bool] = True\n",
    "    spaces_between_special_tokens: Optional[bool] = True\n",
    "    repetition_penalty: Optional[float] = 1.05\n",
    "    min_p: Optional[float] = 0.0"
   ]
  },
  {
   "cell_type": "code",
   "execution_count": 11,
   "id": "7ba2e672-62e2-4da9-8c3c-2daf27ae4454",
   "metadata": {},
   "outputs": [],
   "source": [
    "req = CompletionRequest(prompt=\"你好啊\")"
   ]
  },
  {
   "cell_type": "code",
   "execution_count": 14,
   "id": "223aec5e-a54d-4040-9d17-f9e9911decdd",
   "metadata": {},
   "outputs": [
    {
     "data": {
      "text/plain": [
       "'{\"request_id\":null,\"prompt\":\"你好啊\",\"system_info\":\"\",\"history_input\":[],\"history_output\":[],\"max_tokens\":512,\"temperature\":0.9,\"top_p\":0.85,\"n\":1,\"stream\":false,\"logprobs\":null,\"echo\":false,\"stop\":[],\"presence_penalty\":0.0,\"frequency_penalty\":0.0,\"best_of\":null,\"logit_bias\":null,\"user\":null,\"top_k\":40,\"ignore_eos\":false,\"use_beam_search\":false,\"stop_token_ids\":[],\"skip_special_tokens\":true,\"spaces_between_special_tokens\":true,\"repetition_penalty\":1.05,\"min_p\":0.0}'"
      ]
     },
     "execution_count": 14,
     "metadata": {},
     "output_type": "execute_result"
    }
   ],
   "source": [
    "req.model_dump_json()"
   ]
  },
  {
   "cell_type": "code",
   "execution_count": null,
   "id": "9cbfd951-41c2-412b-a6b9-0bf08df05377",
   "metadata": {},
   "outputs": [],
   "source": []
  }
 ],
 "metadata": {
  "kernelspec": {
   "display_name": "Python 3 (ipykernel)",
   "language": "python",
   "name": "python3"
  },
  "language_info": {
   "codemirror_mode": {
    "name": "ipython",
    "version": 3
   },
   "file_extension": ".py",
   "mimetype": "text/x-python",
   "name": "python",
   "nbconvert_exporter": "python",
   "pygments_lexer": "ipython3",
   "version": "3.10.13"
  }
 },
 "nbformat": 4,
 "nbformat_minor": 5
}
