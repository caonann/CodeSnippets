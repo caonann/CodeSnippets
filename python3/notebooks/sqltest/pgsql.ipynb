{
 "cells": [
  {
   "cell_type": "code",
   "execution_count": 8,
   "id": "0e7a88c3-98c4-4004-98f5-df41b094db60",
   "metadata": {
    "editable": true,
    "slideshow": {
     "slide_type": ""
    },
    "tags": []
   },
   "outputs": [
    {
     "name": "stdout",
     "output_type": "stream",
     "text": [
      "Requirement already satisfied: peewee in /opt/miniconda3/lib/python3.10/site-packages (3.17.1)\n",
      "\u001b[33mWARNING: Running pip as the 'root' user can result in broken permissions and conflicting behaviour with the system package manager. It is recommended to use a virtual environment instead: https://pip.pypa.io/warnings/venv\u001b[0m\u001b[33m\n",
      "\u001b[0mNote: you may need to restart the kernel to use updated packages.\n"
     ]
    }
   ],
   "source": [
    "%pip install peewee"
   ]
  },
  {
   "cell_type": "code",
   "execution_count": 9,
   "id": "0448e10c-f9f7-4969-a077-b8f866f67c82",
   "metadata": {
    "editable": true,
    "slideshow": {
     "slide_type": ""
    },
    "tags": []
   },
   "outputs": [
    {
     "name": "stdout",
     "output_type": "stream",
     "text": [
      "Collecting psycopg2-binary\n",
      "  Downloading psycopg2_binary-2.9.9-cp310-cp310-manylinux_2_17_x86_64.manylinux2014_x86_64.whl.metadata (4.4 kB)\n",
      "Downloading psycopg2_binary-2.9.9-cp310-cp310-manylinux_2_17_x86_64.manylinux2014_x86_64.whl (3.0 MB)\n",
      "\u001b[2K   \u001b[90m━━━━━━━━━━━━━━━━━━━━━━━━━━━━━━━━━━━━━━━━\u001b[0m \u001b[32m3.0/3.0 MB\u001b[0m \u001b[31m19.9 MB/s\u001b[0m eta \u001b[36m0:00:00\u001b[0m00:01\u001b[0m00:01\u001b[0m\n",
      "\u001b[?25hInstalling collected packages: psycopg2-binary\n",
      "Successfully installed psycopg2-binary-2.9.9\n",
      "\u001b[33mWARNING: Running pip as the 'root' user can result in broken permissions and conflicting behaviour with the system package manager. It is recommended to use a virtual environment instead: https://pip.pypa.io/warnings/venv\u001b[0m\u001b[33m\n",
      "\u001b[0mNote: you may need to restart the kernel to use updated packages.\n"
     ]
    }
   ],
   "source": [
    "%pip install --upgrade psycopg2-binary"
   ]
  },
  {
   "cell_type": "code",
   "execution_count": 2,
   "id": "1067dad8-6753-4bc1-b522-f78f6fdadaf8",
   "metadata": {
    "editable": true,
    "slideshow": {
     "slide_type": ""
    },
    "tags": []
   },
   "outputs": [],
   "source": [
    "import argparse\n",
    "import functools\n",
    "import json\n",
    "import time\n",
    "import typing as t\n",
    "import uuid\n",
    "\n",
    "# pip install --upgrade psycopg2-binary\n",
    "# isort: off\n",
    "from playhouse.postgres_ext import *\n",
    "from peewee import (\n",
    "    AutoField,\n",
    "    CharField,\n",
    "    Model,\n",
    "    MySQLDatabase,\n",
    "    TextField,\n",
    "    fn,\n",
    ")"
   ]
  },
  {
   "cell_type": "code",
   "execution_count": 40,
   "id": "16d0bb92-30f0-4312-a606-19304252b27f",
   "metadata": {},
   "outputs": [],
   "source": [
    "with open('/app/notebooks/paaswd.json', 'r') as config_file:\n",
    "    config = json.load(config_file)\n",
    "passwd = config['pgsql']['passwd']\n",
    "host = config['pgsql']['host']"
   ]
  },
  {
   "cell_type": "code",
   "execution_count": 41,
   "id": "85c17aeb-ee61-4484-9d9c-7c7e638562e1",
   "metadata": {
    "editable": true,
    "slideshow": {
     "slide_type": ""
    },
    "tags": []
   },
   "outputs": [],
   "source": [
    "db_pg = PostgresqlExtDatabase(\n",
    "    \"benchmark_test\",\n",
    "    user=\"postgres_admin\",\n",
    "    password=passwd,\n",
    "    host=host,\n",
    "    port=5432,\n",
    ")"
   ]
  },
  {
   "cell_type": "code",
   "execution_count": 4,
   "id": "3e3d9bf0-afa3-49b1-b9cf-6d502a7d15f9",
   "metadata": {
    "editable": true,
    "slideshow": {
     "slide_type": ""
    },
    "tags": []
   },
   "outputs": [],
   "source": [
    "class PGBaseModel(Model):\n",
    "    class Meta:\n",
    "        database = db_pg\n",
    "\n",
    "\n",
    "class PGJsonDataBench(PGBaseModel):\n",
    "    id = AutoField()\n",
    "    jsonb_data = BinaryJSONField()\n",
    "    session_id = CharField()\n",
    "\n",
    "    class Meta:\n",
    "        table_name = \"jsonb_data_bench1\""
   ]
  },
  {
   "cell_type": "code",
   "execution_count": 6,
   "id": "f1b4d8a5-5b02-430a-984e-24d8803dd5f4",
   "metadata": {
    "editable": true,
    "slideshow": {
     "slide_type": ""
    },
    "tags": []
   },
   "outputs": [],
   "source": [
    "class Timer: \n",
    "    \"\"\"记录多次运行时间\"\"\"\n",
    "    def __init__(self):\n",
    "        self.times = []\n",
    "        self.start()\n",
    "\n",
    "    def start(self):\n",
    "        \"\"\"启动计时器\"\"\"\n",
    "        self.tik = time.time()\n",
    "\n",
    "    def stop(self):\n",
    "        \"\"\"停止计时器并将时间记录在列表中\"\"\"\n",
    "        self.times.append(time.time() - self.tik)\n",
    "        return self.times[-1]\n",
    "\n",
    "    def avg(self):\n",
    "        \"\"\"返回平均时间\"\"\"\n",
    "        return sum(self.times) / len(self.times)\n",
    "\n",
    "    def sum(self):\n",
    "        \"\"\"返回时间总和\"\"\"\n",
    "        return sum(self.times)\n",
    "\n",
    "    def cumsum(self):\n",
    "        \"\"\"返回累计时间\"\"\"\n",
    "        return np.array(self.times).cumsum().tolist()"
   ]
  },
  {
   "cell_type": "code",
   "execution_count": 42,
   "id": "246debf8-ad0d-4876-80cc-37ceadf5181e",
   "metadata": {},
   "outputs": [
    {
     "name": "stdout",
     "output_type": "stream",
     "text": [
      "c6eb4cd6-09b3-4b08-b20a-491aa1e870e7 {'a': 123, 'b': 456}\n",
      "98493501-26fa-4607-8619-2233ba896b20 {'a': 123, 'b': 456}\n",
      "54dd76fb-a097-430f-a0e4-81f8b37eb695 {'a': 123, 'b': 456}\n"
     ]
    }
   ],
   "source": [
    "# 查询所有内容\n",
    "query = PGJsonDataBench.select()\n",
    "for i in query:\n",
    "    print(i.session_id,i.jsonb_data)\n",
    "    "
   ]
  },
  {
   "cell_type": "code",
   "execution_count": 23,
   "id": "39106861-c742-4bf9-bae5-35b154b1bc81",
   "metadata": {},
   "outputs": [
    {
     "data": {
      "text/plain": [
       "1"
      ]
     },
     "execution_count": 23,
     "metadata": {},
     "output_type": "execute_result"
    }
   ],
   "source": [
    "# 插入json数据\n",
    "data={\n",
    "    \"a\":123,\n",
    "    \"b\":456\n",
    "}\n",
    "sid = str(uuid.uuid4())\n",
    "j = PGJsonDataBench(jsonb_data=data, session_id=sid)\n",
    "j.save()"
   ]
  },
  {
   "cell_type": "code",
   "execution_count": 37,
   "id": "3b4371ba-83cf-4068-856b-2ffc6f30a4c1",
   "metadata": {},
   "outputs": [
    {
     "name": "stdout",
     "output_type": "stream",
     "text": [
      "ccdaa6a3-403b-4c0f-8b2f-4b1f1859165f\n"
     ]
    }
   ],
   "source": [
    "# 删除指定元素\n",
    "q = PGJsonDataBench.select().where(PGJsonDataBench.session_id=='ccdaa6a3-403b-4c0f-8b2f-4b1f1859165f')\n",
    "for item in q:\n",
    "    print(item.session_id)\n",
    "    item.delete_instance()"
   ]
  },
  {
   "cell_type": "code",
   "execution_count": null,
   "id": "b89add1b-301f-4038-8264-2381d72d20ae",
   "metadata": {},
   "outputs": [],
   "source": []
  }
 ],
 "metadata": {
  "kernelspec": {
   "display_name": "Python 3 (ipykernel)",
   "language": "python",
   "name": "python3"
  },
  "language_info": {
   "codemirror_mode": {
    "name": "ipython",
    "version": 3
   },
   "file_extension": ".py",
   "mimetype": "text/x-python",
   "name": "python",
   "nbconvert_exporter": "python",
   "pygments_lexer": "ipython3",
   "version": "3.10.13"
  }
 },
 "nbformat": 4,
 "nbformat_minor": 5
}
