{
 "cells": [
  {
   "cell_type": "code",
   "execution_count": 4,
   "id": "63490938-75e5-4554-9887-dc322e8810f5",
   "metadata": {},
   "outputs": [
    {
     "name": "stdout",
     "output_type": "stream",
     "text": [
      "Requirement already satisfied: pymongo[gssapi,snappy,srv,tls] in /opt/miniconda3/lib/python3.10/site-packages (4.6.2)\n",
      "Requirement already satisfied: dnspython<3.0.0,>=1.16.0 in /opt/miniconda3/lib/python3.10/site-packages (from pymongo[gssapi,snappy,srv,tls]) (2.6.1)\n",
      "Collecting python-snappy (from pymongo[gssapi,snappy,srv,tls])\n",
      "  Downloading python_snappy-0.7.1-py3-none-any.whl.metadata (1.3 kB)\n",
      "Collecting pykerberos (from pymongo[gssapi,snappy,srv,tls])\n",
      "  Downloading pykerberos-1.2.4.tar.gz (25 kB)\n",
      "  Preparing metadata (setup.py) ... \u001b[?25ldone\n",
      "\u001b[?25hCollecting cramjam (from python-snappy->pymongo[gssapi,snappy,srv,tls])\n",
      "  Downloading cramjam-2.8.1-cp310-cp310-manylinux_2_17_x86_64.manylinux2014_x86_64.whl.metadata (4.1 kB)\n",
      "Downloading python_snappy-0.7.1-py3-none-any.whl (8.6 kB)\n",
      "Downloading cramjam-2.8.1-cp310-cp310-manylinux_2_17_x86_64.manylinux2014_x86_64.whl (2.0 MB)\n",
      "\u001b[2K   \u001b[90m━━━━━━━━━━━━━━━━━━━━━━━━━━━━━━━━━━━━━━━━\u001b[0m \u001b[32m2.0/2.0 MB\u001b[0m \u001b[31m15.8 MB/s\u001b[0m eta \u001b[36m0:00:00\u001b[0ma \u001b[36m0:00:01\u001b[0m\n",
      "\u001b[?25hBuilding wheels for collected packages: pykerberos\n",
      "  Building wheel for pykerberos (setup.py) ... \u001b[?25ldone\n",
      "\u001b[?25h  Created wheel for pykerberos: filename=pykerberos-1.2.4-cp310-cp310-linux_x86_64.whl size=23514 sha256=09cebe8ad9ae28589ece6b24caf4b7edde4e70187b183bcd7886ffb4dd0cccdb\n",
      "  Stored in directory: /root/.cache/pip/wheels/fd/fb/8a/7026d4109d9e94d366ad0ecbe0a96bba874d207ceed5913850\n",
      "Successfully built pykerberos\n",
      "Installing collected packages: pykerberos, cramjam, python-snappy\n",
      "Successfully installed cramjam-2.8.1 pykerberos-1.2.4 python-snappy-0.7.1\n",
      "\u001b[33mWARNING: Running pip as the 'root' user can result in broken permissions and conflicting behaviour with the system package manager. It is recommended to use a virtual environment instead: https://pip.pypa.io/warnings/venv\u001b[0m\u001b[33m\n",
      "\u001b[0mNote: you may need to restart the kernel to use updated packages.\n"
     ]
    }
   ],
   "source": [
    "%pip install \"pymongo[snappy,gssapi,srv,tls]\""
   ]
  },
  {
   "cell_type": "code",
   "execution_count": 20,
   "id": "79a9952f-c58c-4028-ac1a-469c000b8711",
   "metadata": {},
   "outputs": [],
   "source": [
    "import pymongo\n",
    "import datetime\n",
    "import json"
   ]
  },
  {
   "cell_type": "code",
   "execution_count": 6,
   "id": "f0f42993-5b92-4601-8fd2-8da2feb44eba",
   "metadata": {},
   "outputs": [
    {
     "data": {
      "text/plain": [
       "'4.6.2'"
      ]
     },
     "execution_count": 6,
     "metadata": {},
     "output_type": "execute_result"
    }
   ],
   "source": [
    "pymongo.version"
   ]
  },
  {
   "cell_type": "code",
   "execution_count": 26,
   "id": "00c67a5e-32d2-4b3f-95b2-85595d525fc6",
   "metadata": {},
   "outputs": [],
   "source": [
    "with open('/app/notebooks/paaswd.json', 'r') as config_file:\n",
    "    config = json.load(config_file)\n",
    "passwd = config['mongo']['passwd']\n",
    "connect_str = config['mongo']['connect_str']"
   ]
  },
  {
   "cell_type": "code",
   "execution_count": 30,
   "id": "54467a85-bdc0-40e7-b46a-75a2f34477d0",
   "metadata": {},
   "outputs": [],
   "source": [
    "# 连接数据库\n",
    "from pymongo import MongoClient\n",
    "import urllib\n",
    "passwd = urllib.parse.quote_plus(passwd)\n",
    "client = MongoClient(connect_str.format(passwd=passwd))"
   ]
  },
  {
   "cell_type": "code",
   "execution_count": 11,
   "id": "2a88a5d3-d373-40ee-a035-72cf9a0fe75d",
   "metadata": {},
   "outputs": [],
   "source": [
    "# get the database and collection on which to run the operation\n",
    "collection = client['gettingStarted']['people']"
   ]
  },
  {
   "cell_type": "code",
   "execution_count": 12,
   "id": "ad07eb17-5daa-4734-951c-8f0a6629eec3",
   "metadata": {},
   "outputs": [],
   "source": [
    "# create new documents\n",
    "peopleDocuments = [\n",
    "    {\n",
    "      \"name\": { \"first\": \"Alan\", \"last\": \"Turing\" },\n",
    "      \"birth\": datetime.datetime(1912, 6, 23),\n",
    "      \"death\": datetime.datetime(1954, 6, 7),\n",
    "      \"contribs\": [ \"Turing machine\", \"Turing test\", \"Turingery\" ],\n",
    "      \"views\": 1250000\n",
    "    }, \n",
    "    {\n",
    "      \"name\": { \"first\": \"Grace\", \"last\": \"Hopper\" },\n",
    "      \"birth\": datetime.datetime(1906, 12, 9),\n",
    "      \"death\": datetime.datetime(1992, 1, 1),\n",
    "      \"contribs\": [ \"Mark I\", \"UNIVAC\", \"COBOL\" ],\n",
    "      \"views\": 3860000\n",
    "    }\n",
    "]"
   ]
  },
  {
   "cell_type": "code",
   "execution_count": null,
   "id": "299585fb-f7ed-4e4c-aeaf-16d1d1d52a93",
   "metadata": {},
   "outputs": [],
   "source": [
    "# insert documents\n",
    "collection.insert_many(peopleDocuments)"
   ]
  },
  {
   "cell_type": "code",
   "execution_count": 29,
   "id": "a93686ab-8036-4520-b991-748c83f11aa7",
   "metadata": {},
   "outputs": [
    {
     "name": "stdout",
     "output_type": "stream",
     "text": [
      "Document found:\n",
      " {'_id': ObjectId('65e0ace1441f569362262942'), 'name': {'first': 'Alan', 'last': 'Turing'}, 'birth': datetime.datetime(1912, 6, 23, 0, 0), 'death': datetime.datetime(1954, 6, 7, 0, 0), 'contribs': ['Turing machine', 'Turing test', 'Turingery'], 'views': 1250000}\n"
     ]
    }
   ],
   "source": [
    "# find documents \n",
    "result = collection.find_one({ \"name.last\": \"Turing\" })\n",
    "# print results\n",
    "print(\"Document found:\\n\", result)"
   ]
  },
  {
   "cell_type": "code",
   "execution_count": 18,
   "id": "8daf4016-28c5-4bf1-b144-b0eb1f48acb9",
   "metadata": {},
   "outputs": [
    {
     "name": "stdout",
     "output_type": "stream",
     "text": [
      "Current working directory: /app/notebooks/sqltest\n"
     ]
    }
   ],
   "source": [
    "import os\n",
    "\n",
    "current_dir = os.getcwd()\n",
    "print(\"Current working directory:\", current_dir)\n"
   ]
  },
  {
   "cell_type": "code",
   "execution_count": null,
   "id": "7cdd469d-1ab5-4c89-8145-395022cfd435",
   "metadata": {},
   "outputs": [],
   "source": []
  }
 ],
 "metadata": {
  "kernelspec": {
   "display_name": "Python 3 (ipykernel)",
   "language": "python",
   "name": "python3"
  },
  "language_info": {
   "codemirror_mode": {
    "name": "ipython",
    "version": 3
   },
   "file_extension": ".py",
   "mimetype": "text/x-python",
   "name": "python",
   "nbconvert_exporter": "python",
   "pygments_lexer": "ipython3",
   "version": "3.10.13"
  }
 },
 "nbformat": 4,
 "nbformat_minor": 5
}
