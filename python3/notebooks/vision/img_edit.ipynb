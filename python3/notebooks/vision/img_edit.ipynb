{
 "cells": [
  {
   "cell_type": "code",
   "execution_count": 10,
   "metadata": {},
   "outputs": [],
   "source": [
    "from PIL import Image"
   ]
  },
  {
   "cell_type": "markdown",
   "metadata": {},
   "source": [
    "处理图片缩放"
   ]
  },
  {
   "cell_type": "code",
   "execution_count": 19,
   "metadata": {},
   "outputs": [
    {
     "name": "stdout",
     "output_type": "stream",
     "text": [
      "Original image size: 512x512\n",
      "Original image size: 1024x1024\n"
     ]
    }
   ],
   "source": [
    "im = Image.open('cunshunout_rgb.png')\n",
    "w, h = im.size\n",
    "print('Original image size: %sx%s' % (w, h))\n",
    "im = im.resize((int(w/2), int(h/2)))\n",
    "print('Original image size: %sx%s' % (w*2, h*2))\n",
    "im.save('cunshunout.png', 'png')"
   ]
  },
  {
   "cell_type": "markdown",
   "metadata": {},
   "source": [
    "将图片转为rgb图片"
   ]
  },
  {
   "cell_type": "code",
   "execution_count": 17,
   "metadata": {},
   "outputs": [
    {
     "name": "stdout",
     "output_type": "stream",
     "text": [
      "Original image size: w=180xh=180 im.mode='RGBA'\n",
      "Original image size: w=180xh=180 im.mode='RGB' im.size=(180, 180)\n"
     ]
    }
   ],
   "source": [
    "im = Image.open('cunshunout.png')\n",
    "w, h = im.size\n",
    "print(f'Original image size: {w=}x{h=} {im.mode=}')\n",
    "im = im.convert('RGB')\n",
    "print(f'Original image size: {w=}x{h=} {im.mode=} {im.size=}')\n",
    "im.save('cunshunout_rgb.png', 'png')"
   ]
  },
  {
   "cell_type": "code",
   "execution_count": 20,
   "metadata": {},
   "outputs": [
    {
     "name": "stdout",
     "output_type": "stream",
     "text": [
      "image info im.mode='RGB' im.size=(256, 256)\n"
     ]
    }
   ],
   "source": [
    "im = Image.open('cunshunout.png')\n",
    "print(f'image info {im.mode=} {im.size=}')"
   ]
  },
  {
   "cell_type": "code",
   "execution_count": null,
   "metadata": {},
   "outputs": [],
   "source": []
  }
 ],
 "metadata": {
  "interpreter": {
   "hash": "05512d7c9e863d144a6ab90c9233132de663fc689a734af9cfc5a6a8fb5b087c"
  },
  "kernelspec": {
   "display_name": "Python 3 (ipykernel)",
   "language": "python",
   "name": "python3"
  },
  "language_info": {
   "codemirror_mode": {
    "name": "ipython",
    "version": 3
   },
   "file_extension": ".py",
   "mimetype": "text/x-python",
   "name": "python",
   "nbconvert_exporter": "python",
   "pygments_lexer": "ipython3",
   "version": "3.9.5"
  }
 },
 "nbformat": 4,
 "nbformat_minor": 2
}
