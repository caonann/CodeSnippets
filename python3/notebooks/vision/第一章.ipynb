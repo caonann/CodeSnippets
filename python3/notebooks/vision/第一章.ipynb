{
 "cells": [
  {
   "cell_type": "code",
   "execution_count": 3,
   "id": "6b3ac2f8",
   "metadata": {},
   "outputs": [],
   "source": [
    "from PIL import Image\n",
    "Image.open('w.jpeg').convert('L').save('w2.jpg') #转为灰度图像"
   ]
  },
  {
   "cell_type": "code",
   "execution_count": 5,
   "id": "22def2ff",
   "metadata": {},
   "outputs": [],
   "source": [
    "# 创建缩略图\n",
    "im = Image.open('w.jpeg')\n",
    "im.thumbnail((10,10))\n",
    "im.save('w3.jpg')"
   ]
  },
  {
   "cell_type": "code",
   "execution_count": null,
   "id": "5dab49c3",
   "metadata": {},
   "outputs": [],
   "source": []
  }
 ],
 "metadata": {
  "kernelspec": {
   "display_name": "Python 3 (ipykernel)",
   "language": "python",
   "name": "python3"
  },
  "language_info": {
   "codemirror_mode": {
    "name": "ipython",
    "version": 3
   },
   "file_extension": ".py",
   "mimetype": "text/x-python",
   "name": "python",
   "nbconvert_exporter": "python",
   "pygments_lexer": "ipython3",
   "version": "3.9.5"
  }
 },
 "nbformat": 4,
 "nbformat_minor": 5
}
